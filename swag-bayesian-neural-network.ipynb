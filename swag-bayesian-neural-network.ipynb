{
 "cells": [
  {
   "cell_type": "markdown",
   "id": "54c45995-adc0-4539-a4ec-b69950da0f69",
   "metadata": {},
   "source": [
    "# (SWAG-approximated) Bayesian Neural Network"
   ]
  },
  {
   "cell_type": "code",
   "execution_count": 6,
   "id": "256c9f1b-ba1c-423b-9d09-0f3cc8d8df1a",
   "metadata": {},
   "outputs": [],
   "source": [
    "import jax\n",
    "import distrax\n",
    "import jax.numpy as jnp\n",
    "import flax.linen as nn\n",
    "import matplotlib.pyplot as plt\n",
    "\n"
   ]
  },
  {
   "cell_type": "code",
   "execution_count": 4,
   "id": "8f01adbb-7d57-4819-be42-9620e813d317",
   "metadata": {},
   "outputs": [],
   "source": [
    "%config InlineBackend.figure_format = \"retina\""
   ]
  },
  {
   "cell_type": "code",
   "execution_count": null,
   "id": "e8be078f-128e-4840-ae60-f9eb4797fe1e",
   "metadata": {},
   "outputs": [],
   "source": []
  }
 ],
 "metadata": {
  "kernelspec": {
   "display_name": "Python 3 (ipykernel)",
   "language": "python",
   "name": "python3"
  },
  "language_info": {
   "codemirror_mode": {
    "name": "ipython",
    "version": 3
   },
   "file_extension": ".py",
   "mimetype": "text/x-python",
   "name": "python",
   "nbconvert_exporter": "python",
   "pygments_lexer": "ipython3",
   "version": "3.9.7"
  }
 },
 "nbformat": 4,
 "nbformat_minor": 5
}
