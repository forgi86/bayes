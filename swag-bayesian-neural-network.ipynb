{
 "cells": [
  {
   "cell_type": "markdown",
   "id": "54c45995-adc0-4539-a4ec-b69950da0f69",
   "metadata": {},
   "source": [
    "# (SWAG-approximated) Bayesian Neural Network"
   ]
  },
  {
   "cell_type": "code",
   "execution_count": 185,
   "id": "9d2cce95-cb1b-4302-85f8-935fe868bd7a",
   "metadata": {},
   "outputs": [],
   "source": [
    "import jax\n",
    "import distrax\n",
    "import optax\n",
    "import jax.numpy as jnp\n",
    "import flax.linen as nn\n",
    "import matplotlib.pyplot as plt\n",
    "from tqdm.notebook import tqdm\n",
    "from functools import partial\n",
    "from sklearn.metrics import confusion_matrix\n",
    "from torchvision.datasets import MNIST\n",
    "from jax.flatten_util import ravel_pytree"
   ]
  },
  {
   "cell_type": "code",
   "execution_count": 173,
   "id": "f885ca25-443e-4e87-8cd5-e2907467ccfd",
   "metadata": {},
   "outputs": [],
   "source": [
    "from tqdm.notebook import tqdm"
   ]
  },
  {
   "cell_type": "code",
   "execution_count": 26,
   "id": "8f01adbb-7d57-4819-be42-9620e813d317",
   "metadata": {},
   "outputs": [],
   "source": [
    "%config InlineBackend.figure_format = \"retina\""
   ]
  },
  {
   "cell_type": "code",
   "execution_count": null,
   "id": "d8b9ad3a-9640-447b-a8b0-de67b77fe25f",
   "metadata": {},
   "outputs": [],
   "source": [
    "root = \"/tmp/mnist\"\n",
    "mnist_train = MNIST(root, download=True, train=True)\n",
    "mnist_test = MNIST(root, download=True, train=False)"
   ]
  },
  {
   "cell_type": "code",
   "execution_count": 88,
   "id": "4c1942cb-9e79-4426-9f8f-b2cbdc7180e8",
   "metadata": {},
   "outputs": [],
   "source": [
    "class MLP1D(nn.Module):\n",
    "    @nn.compact\n",
    "    def __call__(self, x):\n",
    "        x = nn.relu(nn.Dense(10)(x))\n",
    "        x = nn.relu(nn.Dense(10)(x))\n",
    "        x = nn.relu(nn.Dense(10)(x))\n",
    "        x = nn.Dense(10)(x)\n",
    "        return x\n",
    "\n",
    "\n",
    "def bnn_log_joint(params, X, y, model):\n",
    "    flatten_params, _ = ravel_pytree(params)\n",
    "    logits = model.apply(params, X)\n",
    "    \n",
    "    log_prior = distrax.Normal(0.0, 1.0).log_prob(flatten_params).sum()\n",
    "    log_likelihood = distrax.Multinomial(10, logits=logits).log_prob(y).sum()\n",
    "    \n",
    "    log_joint = log_prior + log_likelihood\n",
    "    return log_joint\n",
    "\n",
    "def bnn_loss_fn(params, X, y, model): return -bnn_log_joint(params, X, y, model)"
   ]
  },
  {
   "cell_type": "code",
   "execution_count": 165,
   "id": "f587f4b2-6a04-4821-b8cf-df00b932d094",
   "metadata": {},
   "outputs": [],
   "source": [
    "key = jax.random.PRNGKey(314)\n",
    "key_samples, key_init, key_train, key = jax.random.split(key, 4)"
   ]
  },
  {
   "cell_type": "code",
   "execution_count": 166,
   "id": "9957daab-3b79-42a5-bda4-74a18426d3ad",
   "metadata": {},
   "outputs": [],
   "source": [
    "X_train = jnp.array(mnist_train.data)\n",
    "y_train = jnp.array(mnist_train.targets)\n",
    "\n",
    "n_train, *_ = X_train.shape\n",
    "# \"Gaussanised\" MNIST\n",
    "Xf_train = X_train.reshape(-1, 28 ** 2)\n",
    "Xf_train = Xf_train / Xf_train.max()\n",
    "Xf_train = (Xf_train - Xf_train.mean()) / Xf_train.std()\n",
    "\n",
    "y_ohe_train = jax.nn.one_hot(y_train, 10)"
   ]
  },
  {
   "cell_type": "code",
   "execution_count": 167,
   "id": "2e75ba8a-bfe4-4cc5-bc23-96303e90a8f1",
   "metadata": {},
   "outputs": [
    {
     "data": {
      "image/png": "[encoded data removed]",
      "text/plain": [
       "<Figure size 360x360 with 4 Axes>"
      ]
     },
     "metadata": {
      "image/png": {
       "height": 352,
       "width": 351
      },
      "needs_background": "light"
     },
     "output_type": "display_data"
    }
   ],
   "source": [
    "key = jax.random.PRNGKey(314)\n",
    "key_sample, key = jax.random.split(key)\n",
    "ixs = jax.random.choice(key, n_train, (4,))\n",
    "\n",
    "fig, axs = plt.subplots(2, 2, figsize=(5, 5))\n",
    "axs = axs.ravel()\n",
    "for ix, ax in zip(ixs, axs):\n",
    "    ax.imshow(Xf_train[ix].reshape(28, 28))\n",
    "    ax.axis(\"off\")\n",
    "plt.tight_layout()"
   ]
  },
  {
   "cell_type": "code",
   "execution_count": 168,
   "id": "c58a06d6-ed0a-43c6-9429-cdf4eaedf8fb",
   "metadata": {},
   "outputs": [],
   "source": [
    "def update_first_moment(moment, params, n):\n",
    "    moment = jax.tree_map(lambda mean, theta: (n * mean + theta) / (n + 1),\n",
    "                          moment, params)\n",
    "    return moment\n",
    "\n",
    "\n",
    "def update_second_moment(moment, params, n):\n",
    "    moment = jax.tree_map(lambda mean2, theta: (n * mean2 + theta ** 2) / (n + 1),\n",
    "                          moment, params)\n",
    "    return moment"
   ]
  },
  {
   "cell_type": "code",
   "execution_count": 169,
   "id": "686d93fa-3b2f-4068-9c24-14270cc45ee5",
   "metadata": {},
   "outputs": [],
   "source": [
    "@jax.jit\n",
    "def train_step(params, opt_state, X_batch, y_batch):\n",
    "    loss_fn = partial(bnn_loss_fn, X=X_batch, y=y_batch, model=model)\n",
    "    loss_grad_fn = jax.value_and_grad(loss_fn)\n",
    "    \n",
    "    loss_val, grads = loss_grad_fn(params)\n",
    "    updates, opt_state = tx.update(grads, opt_state)\n",
    "    params = optax.apply_updates(params, updates)\n",
    "    \n",
    "    return loss_val, params\n",
    "    \n",
    "\n",
    "def get_batch_train_ixs(key, num_samples, batch_size):\n",
    "    \"\"\"\n",
    "    Obtain the training indices to be used in an epoch of\n",
    "    mini-batch optimisation.\n",
    "    \"\"\"\n",
    "    steps_per_epoch = num_samples // batch_size\n",
    "    \n",
    "    batch_ixs = jax.random.permutation(key, num_samples)\n",
    "    batch_ixs = batch_ixs[:steps_per_epoch * batch_size]\n",
    "    batch_ixs = batch_ixs.reshape(steps_per_epoch, batch_size)\n",
    "    \n",
    "    return batch_ixs\n",
    "\n",
    "\n",
    "def train_epoch_sgd(key, params, opt_step, X, y, batch_size, epoch):\n",
    "    num_samples = len(X)\n",
    "    batch_ixs = get_batch_train_ixs(key, num_samples, batch_size)\n",
    "    \n",
    "    total_loss = 0\n",
    "    num_batches = len(batch_ixs)\n",
    "    \n",
    "    for batch_ix in batch_ixs:\n",
    "        X_batch = X[batch_ix, ...]\n",
    "        y_batch = y[batch_ix, ...]\n",
    "        loss, params = train_step(params, opt_step, X_batch, y_batch)\n",
    "        total_loss += loss\n",
    "    \n",
    "    mean_loss = total_loss / num_batches\n",
    "    return params, opt_step, mean_loss"
   ]
  },
  {
   "cell_type": "code",
   "execution_count": 175,
   "id": "e87f657e-58f9-4f37-887b-d61ec2cdd09b",
   "metadata": {},
   "outputs": [],
   "source": [
    "batch_size = 500\n",
    "# X_batches = Xf_train.reshape(batch_size, -1, 28 ** 2)\n",
    "# y_batches = y_ohe_train.reshape(batch_size, -1, 10)"
   ]
  },
  {
   "cell_type": "code",
   "execution_count": 197,
   "id": "e7dbc2f4-a788-4906-9696-17f459ba289b",
   "metadata": {},
   "outputs": [
    {
     "data": {
      "application/vnd.jupyter.widget-view+json": {
       "model_id": "61aa38a2a74b4de8b872af1f9d6acf67",
       "version_major": 2,
       "version_minor": 0
      },
      "text/plain": [
       "  0%|          | 0/150 [00:00<?, ?it/s]"
      ]
     },
     "metadata": {},
     "output_type": "display_data"
    }
   ],
   "source": [
    "batch_size = 2000\n",
    "num_epochs = 150\n",
    "learning_rate = 1e-3\n",
    "tx = optax.adam(learning_rate=learning_rate)\n",
    "\n",
    "model = MLP1D()\n",
    "\n",
    "batch = jnp.ones((batch_size, 28 ** 2))\n",
    "params = model.init(key_init, batch)\n",
    "opt_state = tx.init(params)\n",
    "\n",
    "losses = []\n",
    "for e in tqdm(range(num_epochs)):\n",
    "    _, key_train = jax.random.split(key_train)\n",
    "    params, opt_state, loss = train_epoch_sgd(key_train, params, opt_state,\n",
    "                                              Xf_train, y_ohe_train, batch_size, e)\n",
    "    losses.append(loss)"
   ]
  },
  {
   "cell_type": "code",
   "execution_count": 198,
   "id": "5f4e074e-8aba-4aac-83b6-3a6b6021c922",
   "metadata": {},
   "outputs": [],
   "source": [
    "yhat_train = model.apply(params, Xf_train).argmax(axis=1)"
   ]
  },
  {
   "cell_type": "code",
   "execution_count": 199,
   "id": "91fd1631-02cd-4b1e-9b16-d99956e9da41",
   "metadata": {},
   "outputs": [
    {
     "data": {
      "text/plain": [
       "array([[5776,    1,   10,    4,    8,   24,   48,    3,   42,    7],\n",
       "       [   1, 6565,   30,   12,   14,    4,   14,   18,   77,    7],\n",
       "       [  56,   35, 5537,   36,   31,   36,   53,   35,  124,   15],\n",
       "       [  21,   18,  116, 5513,    3,  242,   12,   49,  109,   48],\n",
       "       [   6,   14,    9,    1, 5631,    7,   74,    7,   17,   76],\n",
       "       [  28,    4,   17,   65,   22, 5114,   77,   10,   62,   22],\n",
       "       [  19,    7,    7,    1,   39,   28, 5796,    0,   21,    0],\n",
       "       [  15,   36,   56,   42,   33,    9,    2, 5932,   15,  125],\n",
       "       [  15,   24,   27,   37,   25,   79,   93,    6, 5475,   70],\n",
       "       [  33,   12,    6,   32,  205,   47,    1,   73,   44, 5496]])"
      ]
     },
     "execution_count": 199,
     "metadata": {},
     "output_type": "execute_result"
    }
   ],
   "source": [
    "confusion_matrix(y_train, yhat_train)"
   ]
  },
  {
   "cell_type": "code",
   "execution_count": 200,
   "id": "ccebe422-cf45-4ba6-bb59-ad42f015cddf",
   "metadata": {},
   "outputs": [
    {
     "data": {
      "text/plain": [
       "[<matplotlib.lines.Line2D at 0x7ff8aea56040>]"
      ]
     },
     "execution_count": 200,
     "metadata": {},
     "output_type": "execute_result"
    },
    {
     "data": {
      "image/png": "[encoded data removed]",
      "text/plain": [
       "<Figure size 432x288 with 1 Axes>"
      ]
     },
     "metadata": {
      "image/png": {
       "height": 248,
       "width": 396
      },
      "needs_background": "light"
     },
     "output_type": "display_data"
    }
   ],
   "source": [
    "plt.plot(losses)"
   ]
  }
 ],
 "metadata": {
  "kernelspec": {
   "display_name": "Python 3 (ipykernel)",
   "language": "python",
   "name": "python3"
  },
  "language_info": {
   "codemirror_mode": {
    "name": "ipython",
    "version": 3
   },
   "file_extension": ".py",
   "mimetype": "text/x-python",
   "name": "python",
   "nbconvert_exporter": "python",
   "pygments_lexer": "ipython3",
   "version": "3.9.7"
  }
 },
 "nbformat": 4,
 "nbformat_minor": 5
}
