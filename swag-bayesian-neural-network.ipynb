{
 "cells": [
  {
   "cell_type": "markdown",
   "id": "54c45995-adc0-4539-a4ec-b69950da0f69",
   "metadata": {},
   "source": [
    "# SWAG-approximated Bayesian Neural Network\n",
    "\n",
    "Jax implementation of the SWAG method presented in [A Simple Baseline for Bayesian Uncertainty in Deep Learning](https://arxiv.org/abs/1902.02476) by Maddox, et.al."
   ]
  },
  {
   "cell_type": "code",
   "execution_count": 1,
   "id": "9d2cce95-cb1b-4302-85f8-935fe868bd7a",
   "metadata": {},
   "outputs": [
    {
     "name": "stderr",
     "output_type": "stream",
     "text": [
      "2022-08-31 12:43:49.989005: W tensorflow/stream_executor/platform/default/dso_loader.cc:64] Could not load dynamic library 'libcudart.so.11.0'; dlerror: libcudart.so.11.0: cannot open shared object file: No such file or directory\n"
     ]
    }
   ],
   "source": [
    "import jax\n",
    "import distrax\n",
    "import optax\n",
    "import jax.numpy as jnp\n",
    "import flax.linen as nn\n",
    "import matplotlib.pyplot as plt\n",
    "from typing import Callable\n",
    "from tqdm.notebook import tqdm\n",
    "from functools import partial\n",
    "from sklearn.metrics import confusion_matrix\n",
    "from torchvision.datasets import MNIST\n",
    "from jax.flatten_util import ravel_pytree"
   ]
  },
  {
   "cell_type": "code",
   "execution_count": 2,
   "id": "8f01adbb-7d57-4819-be42-9620e813d317",
   "metadata": {},
   "outputs": [],
   "source": [
    "%config InlineBackend.figure_format = \"retina\""
   ]
  },
  {
   "cell_type": "code",
   "execution_count": 3,
   "id": "4c1942cb-9e79-4426-9f8f-b2cbdc7180e8",
   "metadata": {},
   "outputs": [],
   "source": [
    "class MLP1D(nn.Module):\n",
    "    @nn.compact\n",
    "    def __call__(self, x):\n",
    "        x = nn.relu(nn.Dense(10)(x))\n",
    "        x = nn.relu(nn.Dense(10)(x))\n",
    "        x = nn.relu(nn.Dense(10)(x))\n",
    "        x = nn.Dense(10)(x)\n",
    "        return x\n",
    "\n",
    "\n",
    "class SmallCNN(nn.Module):\n",
    "    num_classes: int\n",
    "    activation: Callable[[jnp.ndarray], jnp.ndarray] = nn.relu\n",
    "    @nn.compact\n",
    "    def __call__(self, x):\n",
    "        x = nn.Conv(features=6, kernel_size=(5, 5), padding=\"SAME\")(x)\n",
    "        x = self.activation(x)\n",
    "        x = nn.avg_pool(x, window_shape=(2, 2), strides=(2, 2), padding=\"VALID\")\n",
    "        x = x.reshape((x.shape[0], -1))\n",
    "        x = nn.Dense(features=120)(x)\n",
    "        x = self.activation(x)\n",
    "        x = nn.Dense(features=84)(x)\n",
    "        x = self.activation(x)\n",
    "        x = nn.Dense(features=self.num_classes)(x)\n",
    "        x = nn.log_softmax(x)\n",
    "        return x\n",
    "        \n",
    "\n",
    "def bnn_log_joint(params, X, y, model):\n",
    "    flatten_params, _ = ravel_pytree(params)\n",
    "    logits = model.apply(params, X)\n",
    "    \n",
    "    log_prior = distrax.Normal(0.0, 1.0).log_prob(flatten_params).sum()\n",
    "    log_likelihood = distrax.Multinomial(10, logits=logits).log_prob(y).sum()\n",
    "    \n",
    "    log_joint = log_prior + log_likelihood\n",
    "    return log_joint\n",
    "\n",
    "def bnn_loss_fn(params, X, y, model): return -bnn_log_joint(params, X, y, model)"
   ]
  },
  {
   "cell_type": "code",
   "execution_count": 4,
   "id": "d8b9ad3a-9640-447b-a8b0-de67b77fe25f",
   "metadata": {},
   "outputs": [],
   "source": [
    "root = \"/tmp/mnist\"\n",
    "mnist_train = MNIST(root, download=True, train=True)\n",
    "mnist_test = MNIST(root, download=True, train=False)"
   ]
  },
  {
   "cell_type": "code",
   "execution_count": 5,
   "id": "f587f4b2-6a04-4821-b8cf-df00b932d094",
   "metadata": {},
   "outputs": [],
   "source": [
    "key = jax.random.PRNGKey(314)\n",
    "key_samples, key_init, key_train, key = jax.random.split(key, 4)"
   ]
  },
  {
   "cell_type": "code",
   "execution_count": 28,
   "id": "9957daab-3b79-42a5-bda4-74a18426d3ad",
   "metadata": {},
   "outputs": [],
   "source": [
    "num_train = 2_000\n",
    "X_train = jnp.array(mnist_train.data)[:num_train]\n",
    "y_train = jnp.array(mnist_train.targets)[:num_train]\n",
    "\n",
    "num_train, *_ = X_train.shape\n",
    "# \"Gaussanised\" MNIST\n",
    "X_train = X_train[..., None]\n",
    "xmax = X_train.max()\n",
    "\n",
    "X_train = X_train / xmax\n",
    "\n",
    "xmean = X_train.mean()\n",
    "xstd = X_train.std()\n",
    "X_train = (X_train - xmean) / xstd\n",
    "\n",
    "y_ohe_train = jax.nn.one_hot(y_train, 10)\n",
    "num_samples = len(X_train)"
   ]
  },
  {
   "cell_type": "code",
   "execution_count": 29,
   "id": "12e0a1d7-b600-4604-890e-1a05adcee461",
   "metadata": {},
   "outputs": [],
   "source": [
    "X_test = jnp.array(mnist_test.data)\n",
    "y_test = jnp.array(mnist_test.targets)\n",
    "n_test, *_ = X_test.shape\n",
    "\n",
    "# X_test = X_test / xmax\n",
    "# X_test = (X_test - xmean) / xstd\n",
    "\n",
    "X_test = X_test[..., None]\n",
    "X_test = X_test / 255\n",
    "X_test = (X_test - xmean) / xstd"
   ]
  },
  {
   "cell_type": "code",
   "execution_count": 30,
   "id": "2e75ba8a-bfe4-4cc5-bc23-96303e90a8f1",
   "metadata": {},
   "outputs": [
    {
     "data": {
      "image/png": "[encoded data removed]",
      "text/plain": [
       "<Figure size 360x360 with 4 Axes>"
      ]
     },
     "metadata": {
      "image/png": {
       "height": 352,
       "width": 351
      },
      "needs_background": "light"
     },
     "output_type": "display_data"
    }
   ],
   "source": [
    "key = jax.random.PRNGKey(314)\n",
    "key_sample, key = jax.random.split(key)\n",
    "ixs = jax.random.choice(key, num_train, (4,))\n",
    "\n",
    "fig, axs = plt.subplots(2, 2, figsize=(5, 5))\n",
    "axs = axs.ravel()\n",
    "for ix, ax in zip(ixs, axs):\n",
    "    ax.imshow(X_train[ix].reshape(28, 28))\n",
    "    ax.axis(\"off\")\n",
    "plt.tight_layout()"
   ]
  },
  {
   "cell_type": "code",
   "execution_count": 31,
   "id": "686d93fa-3b2f-4068-9c24-14270cc45ee5",
   "metadata": {},
   "outputs": [],
   "source": [
    "@jax.jit\n",
    "def train_step(params, opt_state, X_batch, y_batch):\n",
    "    loss_fn = partial(bnn_loss_fn, X=X_batch, y=y_batch, model=model)\n",
    "    loss_grad_fn = jax.value_and_grad(loss_fn)\n",
    "    \n",
    "    loss_val, grads = loss_grad_fn(params)\n",
    "    updates, opt_state = tx.update(grads, opt_state)\n",
    "    params = optax.apply_updates(params, updates)\n",
    "    \n",
    "    return loss_val, params\n",
    "    \n",
    "\n",
    "def get_batch_train_ixs(key, num_samples, batch_size):\n",
    "    \"\"\"\n",
    "    Obtain the training indices to be used in an epoch of\n",
    "    mini-batch optimisation.\n",
    "    \"\"\"\n",
    "    steps_per_epoch = num_samples // batch_size\n",
    "    \n",
    "    batch_ixs = jax.random.permutation(key, num_samples)\n",
    "    batch_ixs = batch_ixs[:steps_per_epoch * batch_size]\n",
    "    batch_ixs = batch_ixs.reshape(steps_per_epoch, batch_size)\n",
    "    \n",
    "    return batch_ixs\n",
    "\n",
    "\n",
    "def train_epoch_sgd(key, params, opt_step, X, y, batch_size, epoch):\n",
    "    num_samples = len(X)\n",
    "    batch_ixs = get_batch_train_ixs(key, num_samples, batch_size)\n",
    "    \n",
    "    total_loss = 0\n",
    "    num_batches = len(batch_ixs)\n",
    "    \n",
    "    for batch_ix in batch_ixs:\n",
    "        X_batch = X[batch_ix, ...]\n",
    "        y_batch = y[batch_ix, ...]\n",
    "        loss, params = train_step(params, opt_step, X_batch, y_batch)\n",
    "        total_loss += loss\n",
    "    \n",
    "    mean_loss = total_loss / num_batches\n",
    "    return params, opt_step, mean_loss"
   ]
  },
  {
   "cell_type": "code",
   "execution_count": 32,
   "id": "e7dbc2f4-a788-4906-9696-17f459ba289b",
   "metadata": {},
   "outputs": [
    {
     "data": {
      "application/vnd.jupyter.widget-view+json": {
       "model_id": "8ccd61a20143468cb71ed4b0e63fa6be",
       "version_major": 2,
       "version_minor": 0
      },
      "text/plain": [
       "  0%|          | 0/150 [00:00<?, ?it/s]"
      ]
     },
     "metadata": {},
     "output_type": "display_data"
    }
   ],
   "source": [
    "batch_size = 500\n",
    "num_epochs = 150\n",
    "learning_rate = 1e-5\n",
    "tx = optax.adam(learning_rate=learning_rate)\n",
    "\n",
    "model = SmallCNN(10)\n",
    "\n",
    "batch = jnp.ones((batch_size, 28, 28, 1))\n",
    "params = model.init(key_init, batch)\n",
    "opt_state = tx.init(params)\n",
    "\n",
    "losses = []\n",
    "\n",
    "loss_old = jnp.inf\n",
    "for e in tqdm(range(num_epochs)):\n",
    "    _, key_train = jax.random.split(key_train)\n",
    "    params, opt_state, loss = train_epoch_sgd(key_train, params, opt_state,\n",
    "                                              X_train, y_ohe_train, batch_size, e)\n",
    "    losses.append(loss)\n",
    "    \n",
    "    if abs(loss / loss_old - 1) < 1e-7:\n",
    "        break\n",
    "    else:\n",
    "        loss_old = loss"
   ]
  },
  {
   "cell_type": "code",
   "execution_count": 33,
   "id": "5f4e074e-8aba-4aac-83b6-3a6b6021c922",
   "metadata": {},
   "outputs": [
    {
     "name": "stdout",
     "output_type": "stream",
     "text": [
      "CPU times: user 3.06 s, sys: 16.6 ms, total: 3.08 s\n",
      "Wall time: 2.93 s\n"
     ]
    }
   ],
   "source": [
    "%%time\n",
    "yhat_train = model.apply(params, X_train).argmax(axis=1)"
   ]
  },
  {
   "cell_type": "code",
   "execution_count": 34,
   "id": "0b77694d-1305-460d-90e6-880b7f90b4ae",
   "metadata": {},
   "outputs": [
    {
     "name": "stdout",
     "output_type": "stream",
     "text": [
      "83.20%\n"
     ]
    },
    {
     "data": {
      "text/plain": [
       "array([[178,   1,   1,   0,   0,   2,   5,   0,   4,   0],\n",
       "       [  0, 213,   0,   1,   0,   0,   0,   0,   4,   2],\n",
       "       [  3,  17, 136,   4,  14,   0,   4,   8,  12,   0],\n",
       "       [  5,   5,   1, 163,   0,   1,   2,   3,   5,   6],\n",
       "       [  1,   4,   0,   0, 187,   0,   4,   0,   0,  18],\n",
       "       [  5,   8,   1,  29,   3, 121,   3,   0,   4,   6],\n",
       "       [  4,  10,   1,   0,   2,   4, 176,   1,   1,   1],\n",
       "       [  0,  11,   0,   1,   9,   0,   0, 195,   0,   8],\n",
       "       [  1,  10,   3,   9,   0,   7,   3,   1, 125,  13],\n",
       "       [  2,   3,   0,   6,  21,   0,   0,   7,   1, 170]])"
      ]
     },
     "execution_count": 34,
     "metadata": {},
     "output_type": "execute_result"
    }
   ],
   "source": [
    "acc_train = (y_train == yhat_train).mean()\n",
    "print(f\"{acc_train:0.2%}\")\n",
    "confusion_matrix(y_train, yhat_train)"
   ]
  },
  {
   "cell_type": "markdown",
   "id": "9f2ac374-cd45-4818-8e94-79394e61914d",
   "metadata": {},
   "source": [
    "## Swag"
   ]
  },
  {
   "cell_type": "code",
   "execution_count": 35,
   "id": "7c2789af-4043-4380-9bf2-889a13665e9d",
   "metadata": {},
   "outputs": [],
   "source": [
    "def get_swag_ixs(key, num_samples, batch_size, num_data_passes):\n",
    "    \"\"\"\n",
    "    Obtain the training indices to be used in an epoch of\n",
    "    mini-batch optimisation.\n",
    "    \"\"\"\n",
    "    keys = jax.random.split(key, num_data_passes)\n",
    "    batches_fn = jax.vmap(get_batch_train_ixs, (0, None, None))\n",
    "    batches_ix = batches_fn(keys, num_samples, batch_size)\n",
    "    batches_ix = batches_ix.reshape(-1, batch_size)\n",
    "    \n",
    "    return batches_ix\n",
    "\n",
    "\n",
    "def update_first_moment(moment, params, n):\n",
    "    moment = jax.tree_map(lambda mean, theta: (n * mean + theta) / (n + 1),\n",
    "                          moment, params)\n",
    "    return moment\n",
    "\n",
    "\n",
    "def update_second_moment(moment, params, n):\n",
    "    moment = jax.tree_map(lambda mean2, theta: (n * mean2 + theta ** 2) / (n + 1),\n",
    "                          moment, params)\n",
    "    return moment\n",
    "\n",
    "\n",
    "def train_step(params, opt_state, X_batch, y_batch, tx, loss_fn, model):\n",
    "    loss_fn = partial(loss_fn, X=X_batch, y=y_batch, model=model)\n",
    "    loss_grad_fn = jax.value_and_grad(loss_fn)\n",
    "    \n",
    "    loss_val, grads = loss_grad_fn(params)\n",
    "    updates, opt_state = tx.update(grads, opt_state)\n",
    "    params = optax.apply_updates(params, updates)\n",
    "    \n",
    "    return loss_val, params\n",
    "\n",
    "@jax.jit\n",
    "def insert(storage, index, new_item, capacity):\n",
    "    \"\"\"\n",
    "    Ring buffer implementation.\n",
    "    \"\"\"\n",
    "    storage = storage.at[:, index].set(new_item)\n",
    "    index = (index + 1) % capacity\n",
    "    return storage, index"
   ]
  },
  {
   "cell_type": "code",
   "execution_count": 165,
   "id": "9b780608-86be-4fcc-8665-d07208176fe1",
   "metadata": {},
   "outputs": [],
   "source": [
    "batches_ix = get_swag_ixs(key, num_samples, batch_size, 50)\n",
    "update_freq = 10\n",
    "T = len(batches_ix)"
   ]
  },
  {
   "cell_type": "code",
   "execution_count": 166,
   "id": "b0fd323f-e1b5-458b-9f36-aa99e2c1d6bc",
   "metadata": {},
   "outputs": [
    {
     "data": {
      "application/vnd.jupyter.widget-view+json": {
       "model_id": "e5044db5bfb54320867efd901d8c3df3",
       "version_major": 2,
       "version_minor": 0
      },
      "text/plain": [
       "  0%|          | 0/200 [00:00<?, ?it/s]"
      ]
     },
     "metadata": {},
     "output_type": "display_data"
    }
   ],
   "source": [
    "num_K = 50\n",
    "learning_rate = 1e-4\n",
    "tx_swag = optax.sgd(learning_rate=learning_rate)\n",
    "train_step_part = jax.jit(partial(train_step, tx=tx_swag, loss_fn=bnn_loss_fn, model=model))\n",
    "\n",
    "\n",
    "# SWAG - moment params\n",
    "params_moment = params.copy({})\n",
    "params_moment2 = jax.tree_map(lambda x: x ** 2, params)\n",
    "\n",
    "\n",
    "params_swag = params.copy({})\n",
    "opt_state_swag = tx_swag.init(params_swag)\n",
    "\n",
    "# Initialise difference storage\n",
    "index = 0\n",
    "params_flat, *_ = ravel_pytree(params_moment)\n",
    "num_params, *_ = params_flat.shape\n",
    "D = jnp.empty((num_params, num_K))\n",
    "\n",
    "\n",
    "for t, batch_ix in tqdm(enumerate(batches_ix), total=T):\n",
    "    X_batch = X_train[batch_ix, ...]\n",
    "    y_batch = y_ohe_train[batch_ix, ...]\n",
    "    \n",
    "    loss, params_swag = train_step_part(params_swag, opt_state_swag, X_batch, y_batch)\n",
    "    \n",
    "    if t % update_freq == 0:\n",
    "        n = t // update_freq\n",
    "        params_moment = update_first_moment(params_moment, params_swag, n)\n",
    "        params_moment2 = update_second_moment(params_moment2, params_swag, n)\n",
    "        \n",
    "        params_diff = jax.tree_map(lambda x, y: x - y, params_swag, params_moment)\n",
    "        params_diff, *_ = ravel_pytree(params_diff)\n",
    "        D, index = insert(D, index, params_diff, num_K)"
   ]
  },
  {
   "cell_type": "code",
   "execution_count": 167,
   "id": "2e0bea2b-476f-4180-8edc-542ba3dd1d00",
   "metadata": {},
   "outputs": [],
   "source": [
    "cpu_device, *_ = jax.devices(\"cpu\")\n",
    "tpu_device, *_ = jax.devices(\"tpu\")\n",
    "\n",
    "params_swag = params_moment.copy({})\n",
    "Sigma_diag = jax.tree_map(lambda w2, w: w2 - w ** 2, params_moment2, params_moment)\n",
    "Sigma_diag, reconstruct_fn = ravel_pytree(Sigma_diag)\n",
    "\n",
    "params_swag = jax.device_put(params_swag, cpu_device)\n",
    "params_swag, _ = ravel_pytree(params_swag)\n",
    "Sigma_diag = jax.device_put(Sigma_diag, cpu_device)"
   ]
  },
  {
   "cell_type": "code",
   "execution_count": 168,
   "id": "1ac4ad4c-7cd2-4bf0-a375-4f8702feec1b",
   "metadata": {},
   "outputs": [],
   "source": [
    "key_fulldim, key_subspace = jax.random.split(key)"
   ]
  },
  {
   "cell_type": "code",
   "execution_count": 169,
   "id": "13826a75-332c-4bde-9726-d5f99a6a9f14",
   "metadata": {},
   "outputs": [],
   "source": [
    "num_swag_samples = 500\n",
    "key_fulldim = jax.device_put(key_fulldim, cpu_device)\n",
    "samples_fulldim = jax.random.normal(key_fulldim, (num_swag_samples, num_params))\n",
    "samples_fulldim = jnp.einsum(\"nm,m->nm\", samples_fulldim, jnp.sqrt(Sigma_diag / 2))\n",
    "\n",
    "\n",
    "samples_subdim = jax.random.normal(key_fulldim, (num_swag_samples, num_K))\n",
    "samples_subdim = jnp.einsum(\"nk,mk->nm\", samples_subdim, D / jnp.sqrt(2 * num_K - 2))\n",
    "\n",
    "\n",
    "posterior_samples = params_swag + (samples_subdim + samples_subdim)\n",
    "del samples_fulldim, samples_subdim\n",
    "reconstruct_fn_vmap = jax.vmap(reconstruct_fn)\n",
    "posterior_samples = reconstruct_fn_vmap(posterior_samples)"
   ]
  },
  {
   "cell_type": "code",
   "execution_count": 170,
   "id": "76bb00ee-7a64-473b-856c-4aaa3484e156",
   "metadata": {},
   "outputs": [],
   "source": [
    "X_train_cpu = jax.device_put(X_train, device=cpu_device)"
   ]
  },
  {
   "cell_type": "code",
   "execution_count": 171,
   "id": "f551bdfc-84e2-4095-af62-7e4065a900d3",
   "metadata": {},
   "outputs": [],
   "source": [
    "model_apply_samples = jax.vmap(model.apply, (0, None), out_axes=1)\n",
    "yhat_train_multiple = model_apply_samples(posterior_samples, X_train_cpu[:50]).argmax(axis=-1)"
   ]
  },
  {
   "cell_type": "code",
   "execution_count": 172,
   "id": "d9f32bea-af3f-4e68-b87a-f0585b7c5331",
   "metadata": {},
   "outputs": [
    {
     "data": {
      "text/plain": [
       "DeviceArray([5, 0, 4, 1, 9, 2, 1, 3, 1, 4, 3, 5, 3, 6, 1, 7, 2, 8, 6, 9,\n",
       "             4, 0, 9, 1, 4, 2, 4, 3, 3, 7, 3, 8, 6, 7, 0, 5, 6, 0, 7, 6,\n",
       "             1, 8, 7, 9, 3, 9, 8, 5, 5, 3], dtype=int32)"
      ]
     },
     "execution_count": 172,
     "metadata": {},
     "output_type": "execute_result"
    }
   ],
   "source": [
    "yhat_train_multiple.mean(axis=1).round().astype(int)"
   ]
  },
  {
   "cell_type": "code",
   "execution_count": 173,
   "id": "75fef586-76ef-4fd3-ad81-218c0aafb344",
   "metadata": {},
   "outputs": [
    {
     "data": {
      "text/plain": [
       "DeviceArray([5, 0, 4, 1, 9, 2, 1, 3, 1, 4, 3, 1, 3, 6, 1, 7, 2, 8, 6, 1,\n",
       "             4, 0, 9, 1, 1, 8, 9, 3, 7, 7, 3, 8, 6, 7, 8, 5, 6, 0, 7, 6,\n",
       "             1, 8, 7, 9, 3, 9, 8, 5, 3, 3], dtype=int32)"
      ]
     },
     "execution_count": 173,
     "metadata": {},
     "output_type": "execute_result"
    }
   ],
   "source": [
    "yhat_train[:50]"
   ]
  },
  {
   "cell_type": "markdown",
   "id": "9970c569-f932-4588-a3a2-ad41c0fb001e",
   "metadata": {},
   "source": [
    "## Test set"
   ]
  },
  {
   "cell_type": "raw",
   "id": "a9d5fc13-7c92-46ea-ac5b-df7e95e204de",
   "metadata": {},
   "source": [
    "model_pmap_samples = jax.pmap(lambda X: model_apply_samples(posterior_samples, X), 0)\n",
    "X_test_reshape = X_test.reshape(8, -1, 28, 28, 1)\n",
    "yhat_test_multiple = model_pmap_samples(X_test_reshape[:, :200, ...]).reshape(-1, num_swag_samples, 10)"
   ]
  },
  {
   "cell_type": "code",
   "execution_count": 174,
   "id": "e8d51f4b-bcb6-4328-b8ae-bd503233b565",
   "metadata": {},
   "outputs": [
    {
     "name": "stderr",
     "output_type": "stream",
     "text": [
      "tcmalloc: large alloc 47040004096 bytes == 0x56045261a000 @  0x7fb3a58e8680 0x7fb3a5909824 0x7fb3a5909b8a 0x7fb39afedff4 0x7fb3970ee92f 0x7fb3970fa30c 0x7fb3970fd9e5 0x7fb39704737a 0x7fb396da1f68 0x7fb396d8600b 0x55ed25fd3714 0x55ed25fa39ef 0x55ed25f34e19 0x55ed25f58fdc 0x55ed25fe1b0d 0x55ed25fe2527 0x55ed25edec17 0x55ed25edf1eb 0x55ed25f978f8 0x55ed2602b740 0x55ed25fe1b0d 0x55ed25fe2527 0x55ed25f978f8 0x55ed2602b740 0x55ed25fe18e2 0x55ed25fe2527 0x55ed25edec17 0x55ed26068592 0x55ed25f977f7 0x55ed2602b740 0x55ed25fe2753\n",
      "tcmalloc: large alloc 47040004096 bytes == 0x561a1d286000 @  0x7fb3a58e8680 0x7fb3a5909824 0x7fb39785cee5 0x7fb3978e448b 0x7fb3978e4af9 0x7fb0db10b0a3 0x7fb3970fd9e5 0x7fb39704737a 0x7fb396da1f68 0x7fb396d8600b 0x55ed25fd3714 0x55ed25fa39ef 0x55ed25f34e19 0x55ed25f58fdc 0x55ed25fe1b0d 0x55ed25fe2527 0x55ed25edec17 0x55ed25edf1eb 0x55ed25f978f8 0x55ed2602b740 0x55ed25fe1b0d 0x55ed25fe2527 0x55ed25f978f8 0x55ed2602b740 0x55ed25fe18e2 0x55ed25fe2527 0x55ed25edec17 0x55ed26068592 0x55ed25f977f7 0x55ed2602b740 0x55ed25fe2753\n",
      "tcmalloc: large alloc 47040004096 bytes == 0x561a1d286000 @  0x7fb3a58e8680 0x7fb3a5909824 0x7fb3a5909b8a 0x7fb39afedff4 0x7fb3970ee92f 0x7fb3970fa30c 0x7fb3970fd9e5 0x7fb39704737a 0x7fb396da1f68 0x7fb396d8600b 0x55ed25fd3714 0x55ed25fa39ef 0x55ed25f34e19 0x55ed25f58fdc 0x55ed25fe1b0d 0x55ed25fe2527 0x55ed25edec17 0x55ed25edf1eb 0x55ed25f978f8 0x55ed2602b740 0x55ed25fe1b0d 0x55ed25fe2527 0x55ed25f978f8 0x55ed2602b740 0x55ed25fe18e2 0x55ed25fe2527 0x55ed25edec17 0x55ed26068592 0x55ed25f977f7 0x55ed2602b740 0x55ed25fe2753\n",
      "tcmalloc: large alloc 47040004096 bytes == 0x562510f5e000 @  0x7fb3a58e8680 0x7fb3a5909824 0x7fb3a5909b8a 0x7fb39afedff4 0x7fb3970ee92f 0x7fb3970fa30c 0x7fb3970fd9e5 0x7fb39704737a 0x7fb396da1f68 0x7fb396d8600b 0x55ed25fd3714 0x55ed25fa39ef 0x55ed25f34e19 0x55ed25f58fdc 0x55ed25fe1b0d 0x55ed25fe2527 0x55ed25edec17 0x55ed25edf1eb 0x55ed25f978f8 0x55ed2602b740 0x55ed25fe1b0d 0x55ed25fe2527 0x55ed25f977f7 0x55ed2602b740 0x55ed25fe2753 0x55ed25f5810d 0x55ed25fe18e2 0x55ed25fe2527 0x55ed25f977f7 0x55ed2602b740 0x55ed2600e0ed\n",
      "tcmalloc: large alloc 47040004096 bytes == 0x561a1d286000 @  0x7fb3a58e8680 0x7fb3a5909824 0x7fb3a5909b8a 0x7fb39afedff4 0x7fb3970ee92f 0x7fb3970fa30c 0x7fb3970fd9e5 0x7fb39704737a 0x7fb396da1f68 0x7fb396d8600b 0x55ed25fd3714 0x55ed25fa39ef 0x55ed25f34e19 0x55ed25f58fdc 0x55ed25fe1b0d 0x55ed25fe2527 0x55ed25edec17 0x55ed25edf1eb 0x55ed25f978f8 0x55ed2602b740 0x55ed25fe1b0d 0x55ed25fe2527 0x55ed25f977f7 0x55ed2602b740 0x55ed25fe2753 0x55ed25f5810d 0x55ed25fe18e2 0x55ed25fe2527 0x55ed25f977f7 0x55ed2602b740 0x55ed2600e0ed\n",
      "tcmalloc: large alloc 11760001024 bytes == 0x562510f5e000 @  0x7fb3a58e8680 0x7fb3a5909824 0x7fb3a5909b8a 0x7fb39afedff4 0x7fb3970ee92f 0x7fb3970fa30c 0x7fb3970fd9e5 0x7fb39704737a 0x7fb396da1f68 0x7fb396d8600b 0x55ed25fd3714 0x55ed25fa39ef 0x55ed25f34e19 0x55ed25f58fdc 0x55ed25fe1b0d 0x55ed25fe2527 0x55ed25edec17 0x55ed25edf1eb 0x55ed25f978f8 0x55ed2602b740 0x55ed25fe1b0d 0x55ed25fe2527 0x55ed25f978f8 0x55ed2602b740 0x55ed25fe18e2 0x55ed25fe2527 0x55ed25edec17 0x55ed26068592 0x55ed25f977f7 0x55ed2602b740 0x55ed25fe2753\n",
      "tcmalloc: large alloc 11760001024 bytes == 0x5627cde94000 @  0x7fb3a58e8680 0x7fb3a5909824 0x7fb3a5909b8a 0x7fb39afedff4 0x7fb3970ee92f 0x7fb3970fa30c 0x7fb3970fd9e5 0x7fb39704737a 0x7fb396da1f68 0x7fb396d8600b 0x55ed25fd3714 0x55ed25fa39ef 0x55ed25f34e19 0x55ed25f58fdc 0x55ed25fe1b0d 0x55ed25fe2527 0x55ed25edec17 0x55ed25edf1eb 0x55ed25f978f8 0x55ed2602b740 0x55ed25fe1b0d 0x55ed25fe2527 0x55ed25f977f7 0x55ed2602b740 0x55ed25fe2753 0x55ed25f5810d 0x55ed25fe18e2 0x55ed25fe2527 0x55ed25f977f7 0x55ed2602b740 0x55ed2600e0ed\n",
      "tcmalloc: large alloc 11760001024 bytes == 0x562a8adca000 @  0x7fb3a58e8680 0x7fb3a5909824 0x7fb3a5909b8a 0x7fb39afedff4 0x7fb3970ee92f 0x7fb3970fa30c 0x7fb3970fd9e5 0x7fb39704737a 0x7fb396da1f68 0x7fb396d8600b 0x55ed25fd3714 0x55ed25fa39ef 0x55ed25f34e19 0x55ed25f58fdc 0x55ed25fe1b0d 0x55ed25fe2527 0x55ed25edec17 0x55ed25edf1eb 0x55ed25f978f8 0x55ed2602b740 0x55ed25fe1b0d 0x55ed25fe2527 0x55ed25f978f8 0x55ed2602b740 0x55ed25fe18e2 0x55ed25fe2527 0x55ed25edec17 0x55ed26068592 0x55ed25f977f7 0x55ed2602b740 0x55ed25fe2753\n"
     ]
    }
   ],
   "source": [
    "num_test = 5_000\n",
    "X_test_cpu = jax.device_put(X_test, device=cpu_device)[:num_test]\n",
    "yhat_test_multiple = model_apply_samples(posterior_samples, X_test_cpu)"
   ]
  },
  {
   "cell_type": "code",
   "execution_count": 175,
   "id": "b7c3a667-4f6a-430f-adb4-9048a585e5fb",
   "metadata": {},
   "outputs": [
    {
     "name": "stdout",
     "output_type": "stream",
     "text": [
      "Average accuracy: 86.36%\n"
     ]
    }
   ],
   "source": [
    "acc_test_multiple = yhat_test_multiple.argmax(axis=-1) == y_test[:num_test, None]\n",
    "acc_test_avg = acc_test_multiple.mean()\n",
    "print(f\"Average accuracy: {acc_test_avg:0.2%}\")"
   ]
  },
  {
   "cell_type": "markdown",
   "id": "6618d0ad-266f-44a9-867c-df30b65fed3e",
   "metadata": {},
   "source": [
    "### SWAG - test results"
   ]
  },
  {
   "cell_type": "code",
   "execution_count": 176,
   "id": "a68b93c1-9df5-47f4-9684-18695983e4c5",
   "metadata": {},
   "outputs": [
    {
     "name": "stdout",
     "output_type": "stream",
     "text": [
      "88.40%\n"
     ]
    },
    {
     "data": {
      "text/plain": [
       "array([[442,   0,   5,   0,   1,   3,   6,   0,   3,   0],\n",
       "       [  0, 560,   3,   2,   0,   0,   3,   1,   2,   0],\n",
       "       [  1,   2, 481,   7,   9,   0,   7,  14,   9,   0],\n",
       "       [  2,   3,  13, 409,   0,  44,   1,  16,  10,   2],\n",
       "       [  0,   1,   1,   1, 460,   0,  12,   1,   2,  22],\n",
       "       [  4,   4,   2,  10,   9, 398,   7,  11,   3,   8],\n",
       "       [  8,   3,  23,   1,  12,  14, 400,   0,   1,   0],\n",
       "       [  0,  14,  27,   5,   8,   0,   1, 433,   3,  21],\n",
       "       [  8,   6,  10,  20,  11,  15,   8,  10, 391,  10],\n",
       "       [  4,   5,   4,  13,  27,   0,   1,  17,   3, 446]])"
      ]
     },
     "execution_count": 176,
     "metadata": {},
     "output_type": "execute_result"
    }
   ],
   "source": [
    "yhat_test = yhat_test_multiple.mean(axis=1).argmax(axis=-1)\n",
    "acc_test = (y_test[:num_test] == yhat_test).mean()\n",
    "print(f\"{acc_test:0.2%}\")\n",
    "confusion_matrix(y_test[:num_test], yhat_test)"
   ]
  },
  {
   "cell_type": "markdown",
   "id": "cc8634f3-c008-4693-bf19-914f0b1d8c83",
   "metadata": {},
   "source": [
    "### SGD - test results"
   ]
  },
  {
   "cell_type": "code",
   "execution_count": 177,
   "id": "32bf8f3b-eb12-43c4-9ed7-0441a97030dd",
   "metadata": {},
   "outputs": [
    {
     "name": "stdout",
     "output_type": "stream",
     "text": [
      "76.20%\n"
     ]
    },
    {
     "data": {
      "text/plain": [
       "array([[430,   0,   0,   3,   1,   2,  16,   0,   7,   1],\n",
       "       [  0, 557,   1,   3,   0,   0,   3,   0,   2,   5],\n",
       "       [ 13,  38, 356,  31,  13,   0,   9,  19,  46,   5],\n",
       "       [  3,  12,   7, 402,   2,  25,   6,  13,  19,  11],\n",
       "       [  1,   6,   0,   0, 396,   0,  14,   4,   0,  79],\n",
       "       [ 13,  11,   4, 100,  15, 231,   7,  13,  24,  38],\n",
       "       [ 22,  19,  26,   0,  14,  34, 341,   3,   2,   1],\n",
       "       [  1,  41,   7,   1,  14,   0,   1, 416,   5,  26],\n",
       "       [  8,  22,  10,  32,   5,  30,  10,  10, 293,  69],\n",
       "       [  7,  16,   2,  13,  72,   0,   2,  18,   2, 388]])"
      ]
     },
     "execution_count": 177,
     "metadata": {},
     "output_type": "execute_result"
    }
   ],
   "source": [
    "yhat_test_sgd = model.apply(params, X_test).argmax(axis=1)[:num_test]\n",
    "\n",
    "acc_test_sgd = (y_test[:num_test] == yhat_test_sgd).mean()\n",
    "print(f\"{acc_test_sgd:0.2%}\")\n",
    "confusion_matrix(y_test[:num_test], yhat_test_sgd)"
   ]
  },
  {
   "cell_type": "code",
   "execution_count": null,
   "id": "a0ab69d2-423d-4983-b101-2b9126e37212",
   "metadata": {},
   "outputs": [],
   "source": []
  }
 ],
 "metadata": {
  "kernelspec": {
   "display_name": "Python 3 (ipykernel)",
   "language": "python",
   "name": "python3"
  },
  "language_info": {
   "codemirror_mode": {
    "name": "ipython",
    "version": 3
   },
   "file_extension": ".py",
   "mimetype": "text/x-python",
   "name": "python",
   "nbconvert_exporter": "python",
   "pygments_lexer": "ipython3",
   "version": "3.9.7"
  }
 },
 "nbformat": 4,
 "nbformat_minor": 5
}
