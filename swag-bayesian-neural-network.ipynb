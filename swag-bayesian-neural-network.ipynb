{
 "cells": [
  {
   "cell_type": "markdown",
   "id": "54c45995-adc0-4539-a4ec-b69950da0f69",
   "metadata": {},
   "source": [
    "# (SWAG-approximated) Bayesian Neural Network"
   ]
  },
  {
   "cell_type": "code",
   "execution_count": 2,
   "id": "9d2cce95-cb1b-4302-85f8-935fe868bd7a",
   "metadata": {},
   "outputs": [
    {
     "name": "stderr",
     "output_type": "stream",
     "text": [
      "2022-08-30 10:28:47.442373: W tensorflow/stream_executor/platform/default/dso_loader.cc:64] Could not load dynamic library 'libcudart.so.11.0'; dlerror: libcudart.so.11.0: cannot open shared object file: No such file or directory\n"
     ]
    }
   ],
   "source": [
    "import jax\n",
    "import distrax\n",
    "import optax\n",
    "import jax.numpy as jnp\n",
    "import flax.linen as nn\n",
    "import matplotlib.pyplot as plt\n",
    "from typing import Callable\n",
    "from tqdm.notebook import tqdm\n",
    "from functools import partial\n",
    "from sklearn.metrics import confusion_matrix\n",
    "from torchvision.datasets import MNIST\n",
    "from jax.flatten_util import ravel_pytree"
   ]
  },
  {
   "cell_type": "code",
   "execution_count": 3,
   "id": "8f01adbb-7d57-4819-be42-9620e813d317",
   "metadata": {},
   "outputs": [],
   "source": [
    "%config InlineBackend.figure_format = \"retina\""
   ]
  },
  {
   "cell_type": "code",
   "execution_count": 4,
   "id": "d8b9ad3a-9640-447b-a8b0-de67b77fe25f",
   "metadata": {},
   "outputs": [],
   "source": [
    "root = \"/tmp/mnist\"\n",
    "mnist_train = MNIST(root, download=True, train=True)\n",
    "mnist_test = MNIST(root, download=True, train=False)"
   ]
  },
  {
   "cell_type": "code",
   "execution_count": 5,
   "id": "4c1942cb-9e79-4426-9f8f-b2cbdc7180e8",
   "metadata": {},
   "outputs": [],
   "source": [
    "class MLP1D(nn.Module):\n",
    "    @nn.compact\n",
    "    def __call__(self, x):\n",
    "        x = nn.relu(nn.Dense(10)(x))\n",
    "        x = nn.relu(nn.Dense(10)(x))\n",
    "        x = nn.relu(nn.Dense(10)(x))\n",
    "        x = nn.Dense(10)(x)\n",
    "        return x\n",
    "\n",
    "    \n",
    "class LeNet5(nn.Module):\n",
    "  num_classes: int\n",
    "  activation: Callable[[jnp.ndarray], jnp.ndarray] = nn.relu\n",
    "    \n",
    "  @nn.compact\n",
    "  def __call__(self, x):\n",
    "    x = x if len(x.shape) > 1 else x[None, :]\n",
    "    x = x.reshape((x.shape[0], 28, 28, 1))\n",
    "    x = self.activation(nn.Conv(features=6, kernel_size=(5,5), padding=\"SAME\")(x))\n",
    "    x = nn.avg_pool(x, window_shape=(2, 2), strides=(2, 2), padding=\"VALID\")\n",
    "    x = self.activation(nn.Conv(features=16, kernel_size=(5,5), padding=\"VALID\")(x))\n",
    "    x = nn.avg_pool(x, window_shape=(2, 2), strides=(2, 2), padding=\"VALID\")\n",
    "    x = x.reshape((x.shape[0], -1))\n",
    "    x = self.activation(nn.Dense(features=120)(x))\n",
    "    x = self.activation(nn.Dense(features=84)(x))\n",
    "    x = nn.Dense(features=self.num_classes)(x)\n",
    "    x = nn.log_softmax(x)\n",
    "    return x\n",
    "\n",
    "class SmallCNN(nn.Module):\n",
    "    num_classes: int\n",
    "    activation: Callable[[jnp.ndarray], jnp.ndarray] = nn.relu\n",
    "    @nn.compact\n",
    "    def __call__(self, x):\n",
    "        x = nn.Conv(features=6, kernel_size=(5, 5), padding=\"SAME\")(x)\n",
    "        x = self.activation(x)\n",
    "        x = nn.avg_pool(x, window_shape=(2, 2), strides=(2, 2), padding=\"VALID\")\n",
    "        x = x.reshape((x.shape[0], -1))\n",
    "        x = nn.Dense(features=120)(x)\n",
    "        x = self.activation(x)\n",
    "        x = nn.Dense(features=84)(x)\n",
    "        x = self.activation(x)\n",
    "        x = nn.Dense(features=self.num_classes)(x)\n",
    "        x = nn.log_softmax(x)\n",
    "        return x\n",
    "        \n",
    "\n",
    "def bnn_log_joint(params, X, y, model):\n",
    "    flatten_params, _ = ravel_pytree(params)\n",
    "    logits = model.apply(params, X)\n",
    "    \n",
    "    log_prior = distrax.Normal(0.0, 1.0).log_prob(flatten_params).sum()\n",
    "    log_likelihood = distrax.Multinomial(10, logits=logits).log_prob(y).sum()\n",
    "    \n",
    "    log_joint = log_prior + log_likelihood\n",
    "    return log_joint\n",
    "\n",
    "def bnn_loss_fn(params, X, y, model): return -bnn_log_joint(params, X, y, model)"
   ]
  },
  {
   "cell_type": "code",
   "execution_count": 6,
   "id": "f587f4b2-6a04-4821-b8cf-df00b932d094",
   "metadata": {},
   "outputs": [],
   "source": [
    "key = jax.random.PRNGKey(314)\n",
    "key_samples, key_init, key_train, key = jax.random.split(key, 4)"
   ]
  },
  {
   "cell_type": "code",
   "execution_count": 7,
   "id": "9957daab-3b79-42a5-bda4-74a18426d3ad",
   "metadata": {},
   "outputs": [],
   "source": [
    "X_train = jnp.array(mnist_train.data)\n",
    "y_train = jnp.array(mnist_train.targets)\n",
    "\n",
    "n_train, *_ = X_train.shape\n",
    "# \"Gaussanised\" MNIST\n",
    "Xf_train = X_train[..., None]\n",
    "Xf_train = Xf_train / Xf_train.max()\n",
    "Xf_train = (Xf_train - Xf_train.mean()) / Xf_train.std()\n",
    "\n",
    "y_ohe_train = jax.nn.one_hot(y_train, 10)\n",
    "\n",
    "num_samples = len(Xf_train)"
   ]
  },
  {
   "cell_type": "code",
   "execution_count": 8,
   "id": "2e75ba8a-bfe4-4cc5-bc23-96303e90a8f1",
   "metadata": {},
   "outputs": [
    {
     "data": {
      "image/png": "[encoded data removed]",
      "text/plain": [
       "<Figure size 360x360 with 4 Axes>"
      ]
     },
     "metadata": {
      "image/png": {
       "height": 352,
       "width": 351
      },
      "needs_background": "light"
     },
     "output_type": "display_data"
    }
   ],
   "source": [
    "key = jax.random.PRNGKey(314)\n",
    "key_sample, key = jax.random.split(key)\n",
    "ixs = jax.random.choice(key, n_train, (4,))\n",
    "\n",
    "fig, axs = plt.subplots(2, 2, figsize=(5, 5))\n",
    "axs = axs.ravel()\n",
    "for ix, ax in zip(ixs, axs):\n",
    "    ax.imshow(Xf_train[ix].reshape(28, 28))\n",
    "    ax.axis(\"off\")\n",
    "plt.tight_layout()"
   ]
  },
  {
   "cell_type": "code",
   "execution_count": 9,
   "id": "686d93fa-3b2f-4068-9c24-14270cc45ee5",
   "metadata": {},
   "outputs": [],
   "source": [
    "@jax.jit\n",
    "def train_step(params, opt_state, X_batch, y_batch):\n",
    "    loss_fn = partial(bnn_loss_fn, X=X_batch, y=y_batch, model=model)\n",
    "    loss_grad_fn = jax.value_and_grad(loss_fn)\n",
    "    \n",
    "    loss_val, grads = loss_grad_fn(params)\n",
    "    updates, opt_state = tx.update(grads, opt_state)\n",
    "    params = optax.apply_updates(params, updates)\n",
    "    \n",
    "    return loss_val, params\n",
    "    \n",
    "\n",
    "def get_batch_train_ixs(key, num_samples, batch_size):\n",
    "    \"\"\"\n",
    "    Obtain the training indices to be used in an epoch of\n",
    "    mini-batch optimisation.\n",
    "    \"\"\"\n",
    "    steps_per_epoch = num_samples // batch_size\n",
    "    \n",
    "    batch_ixs = jax.random.permutation(key, num_samples)\n",
    "    batch_ixs = batch_ixs[:steps_per_epoch * batch_size]\n",
    "    batch_ixs = batch_ixs.reshape(steps_per_epoch, batch_size)\n",
    "    \n",
    "    return batch_ixs\n",
    "\n",
    "\n",
    "def train_epoch_sgd(key, params, opt_step, X, y, batch_size, epoch):\n",
    "    num_samples = len(X)\n",
    "    batch_ixs = get_batch_train_ixs(key, num_samples, batch_size)\n",
    "    \n",
    "    total_loss = 0\n",
    "    num_batches = len(batch_ixs)\n",
    "    \n",
    "    for batch_ix in batch_ixs:\n",
    "        X_batch = X[batch_ix, ...]\n",
    "        y_batch = y[batch_ix, ...]\n",
    "        loss, params = train_step(params, opt_step, X_batch, y_batch)\n",
    "        total_loss += loss\n",
    "    \n",
    "    mean_loss = total_loss / num_batches\n",
    "    return params, opt_step, mean_loss"
   ]
  },
  {
   "cell_type": "code",
   "execution_count": 10,
   "id": "e7dbc2f4-a788-4906-9696-17f459ba289b",
   "metadata": {},
   "outputs": [
    {
     "data": {
      "application/vnd.jupyter.widget-view+json": {
       "model_id": "7cc57d776ef84d438b71cbce32d1dc81",
       "version_major": 2,
       "version_minor": 0
      },
      "text/plain": [
       "  0%|          | 0/150 [00:00<?, ?it/s]"
      ]
     },
     "metadata": {},
     "output_type": "display_data"
    }
   ],
   "source": [
    "batch_size = 500\n",
    "num_epochs = 150\n",
    "learning_rate = 1e-5\n",
    "tx = optax.adam(learning_rate=learning_rate)\n",
    "\n",
    "model = SmallCNN(10)\n",
    "\n",
    "batch = jnp.ones((batch_size, 28, 28, 1))\n",
    "params = model.init(key_init, batch)\n",
    "opt_state = tx.init(params)\n",
    "\n",
    "losses = []\n",
    "\n",
    "loss_old = jnp.inf\n",
    "for e in tqdm(range(num_epochs)):\n",
    "    _, key_train = jax.random.split(key_train)\n",
    "    params, opt_state, loss = train_epoch_sgd(key_train, params, opt_state,\n",
    "                                              Xf_train, y_ohe_train, batch_size, e)\n",
    "    losses.append(loss)\n",
    "    \n",
    "    if abs(loss / loss_old - 1) < 1e-7:\n",
    "        break\n",
    "    else:\n",
    "        loss_old = loss"
   ]
  },
  {
   "cell_type": "code",
   "execution_count": 11,
   "id": "5f4e074e-8aba-4aac-83b6-3a6b6021c922",
   "metadata": {},
   "outputs": [
    {
     "name": "stdout",
     "output_type": "stream",
     "text": [
      "CPU times: user 8 s, sys: 0 ns, total: 8 s\n",
      "Wall time: 7.53 s\n"
     ]
    }
   ],
   "source": [
    "%%time\n",
    "yhat_train = model.apply(params, Xf_train).argmax(axis=1)"
   ]
  },
  {
   "cell_type": "code",
   "execution_count": 12,
   "id": "91fd1631-02cd-4b1e-9b16-d99956e9da41",
   "metadata": {},
   "outputs": [
    {
     "name": "stdout",
     "output_type": "stream",
     "text": [
      "98.05%\n"
     ]
    },
    {
     "data": {
      "text/plain": [
       "array([[5863,    2,    8,    0,    3,    5,   17,    2,   17,    6],\n",
       "       [   1, 6662,   29,    6,    7,    0,    3,   10,   21,    3],\n",
       "       [  12,   20, 5834,   12,   11,    0,    8,   29,   27,    5],\n",
       "       [   5,    8,   33, 5966,    3,   34,    1,   24,   29,   28],\n",
       "       [   5,   12,   10,    0, 5733,    1,   15,    5,    8,   53],\n",
       "       [   8,    6,    3,   23,    4, 5308,   29,    3,   23,   14],\n",
       "       [  15,   10,    2,    0,    9,   22, 5848,    0,   12,    0],\n",
       "       [   5,   22,   27,    4,   18,    2,    0, 6147,    8,   32],\n",
       "       [  17,   34,   17,   15,   15,   19,   18,    8, 5690,   18],\n",
       "       [  14,   15,    2,   18,   44,   13,    2,   46,   17, 5778]])"
      ]
     },
     "execution_count": 12,
     "metadata": {},
     "output_type": "execute_result"
    }
   ],
   "source": [
    "acc_train = (y_train == yhat_train).mean()\n",
    "print(f\"{acc_train:0.2%}\")\n",
    "confusion_matrix(y_train, yhat_train)"
   ]
  },
  {
   "cell_type": "code",
   "execution_count": 13,
   "id": "ccebe422-cf45-4ba6-bb59-ad42f015cddf",
   "metadata": {},
   "outputs": [
    {
     "data": {
      "text/plain": [
       "[<matplotlib.lines.Line2D at 0x7f03480fa580>]"
      ]
     },
     "execution_count": 13,
     "metadata": {},
     "output_type": "execute_result"
    },
    {
     "data": {
      "image/png": "[encoded data removed]",
      "text/plain": [
       "<Figure size 432x288 with 1 Axes>"
      ]
     },
     "metadata": {
      "image/png": {
       "height": 248,
       "width": 394
      },
      "needs_background": "light"
     },
     "output_type": "display_data"
    }
   ],
   "source": [
    "plt.plot(losses)"
   ]
  },
  {
   "cell_type": "markdown",
   "id": "9f2ac374-cd45-4818-8e94-79394e61914d",
   "metadata": {},
   "source": [
    "## Swag"
   ]
  },
  {
   "cell_type": "code",
   "execution_count": 14,
   "id": "7c2789af-4043-4380-9bf2-889a13665e9d",
   "metadata": {},
   "outputs": [],
   "source": [
    "def get_swag_ixs(key, num_samples, batch_size, num_data_passes):\n",
    "    \"\"\"\n",
    "    Obtain the training indices to be used in an epoch of\n",
    "    mini-batch optimisation.\n",
    "    \"\"\"\n",
    "    keys = jax.random.split(key, num_data_passes)\n",
    "    batches_fn = jax.vmap(get_batch_train_ixs, (0, None, None))\n",
    "    batches_ix = batches_fn(keys, num_samples, batch_size)\n",
    "    batches_ix = batches_ix.reshape(-1, batch_size)\n",
    "    \n",
    "    return batches_ix\n",
    "\n",
    "\n",
    "def update_first_moment(moment, params, n):\n",
    "    moment = jax.tree_map(lambda mean, theta: (n * mean + theta) / (n + 1),\n",
    "                          moment, params)\n",
    "    return moment\n",
    "\n",
    "\n",
    "def update_second_moment(moment, params, n):\n",
    "    moment = jax.tree_map(lambda mean2, theta: (n * mean2 + theta ** 2) / (n + 1),\n",
    "                          moment, params)\n",
    "    return moment\n",
    "\n",
    "\n",
    "def train_step(params, opt_state, X_batch, y_batch, tx, loss_fn, model):\n",
    "    loss_fn = partial(loss_fn, X=X_batch, y=y_batch, model=model)\n",
    "    loss_grad_fn = jax.value_and_grad(loss_fn)\n",
    "    \n",
    "    loss_val, grads = loss_grad_fn(params)\n",
    "    updates, opt_state = tx.update(grads, opt_state)\n",
    "    params = optax.apply_updates(params, updates)\n",
    "    \n",
    "    return loss_val, params\n",
    "\n",
    "@jax.jit\n",
    "def insert(storage, index, new_item, capacity):\n",
    "    storage = storage.at[:, index].set(new_item)\n",
    "    index = (index + 1) % capacity\n",
    "    return storage, index"
   ]
  },
  {
   "cell_type": "code",
   "execution_count": 15,
   "id": "9b780608-86be-4fcc-8665-d07208176fe1",
   "metadata": {},
   "outputs": [],
   "source": [
    "batches_ix = get_swag_ixs(key, num_samples, batch_size, 10)\n",
    "update_freq = 10\n",
    "T = len(batches_ix)"
   ]
  },
  {
   "cell_type": "code",
   "execution_count": 16,
   "id": "bafd6674-7867-41fc-8b98-9147de082b0a",
   "metadata": {},
   "outputs": [
    {
     "data": {
      "text/plain": [
       "120.0"
      ]
     },
     "execution_count": 16,
     "metadata": {},
     "output_type": "execute_result"
    }
   ],
   "source": [
    "T / update_freq"
   ]
  },
  {
   "cell_type": "raw",
   "id": "ce8a147b-a744-461e-b71d-015f6bab3e65",
   "metadata": {},
   "source": [
    "params_flat, *_ = ravel_pytree(params_moment)\n",
    "num_params, *_ = params_flat.shape\n",
    "num_params\n",
    "num_K = 20"
   ]
  },
  {
   "cell_type": "code",
   "execution_count": 17,
   "id": "b0fd323f-e1b5-458b-9f36-aa99e2c1d6bc",
   "metadata": {},
   "outputs": [
    {
     "data": {
      "application/vnd.jupyter.widget-view+json": {
       "model_id": "25cc498ac6134ecf989fc38da8cd75ee",
       "version_major": 2,
       "version_minor": 0
      },
      "text/plain": [
       "  0%|          | 0/1200 [00:00<?, ?it/s]"
      ]
     },
     "metadata": {},
     "output_type": "display_data"
    }
   ],
   "source": [
    "num_K = 20\n",
    "learning_rate = 1e-5\n",
    "tx_swag = optax.sgd(learning_rate=learning_rate)\n",
    "train_step_part = jax.jit(partial(train_step, tx=tx_swag, loss_fn=bnn_loss_fn, model=model))\n",
    "\n",
    "\n",
    "# SWAG - moment params\n",
    "params_moment = params.copy({})\n",
    "params_moment2 = jax.tree_map(lambda x: x ** 2, params)\n",
    "\n",
    "\n",
    "params_swag = params.copy({})\n",
    "opt_state_swag = tx_swag.init(params_swag)\n",
    "\n",
    "# Initialise difference storage\n",
    "index = 0\n",
    "params_flat, *_ = ravel_pytree(params_moment)\n",
    "num_params, *_ = params_flat.shape\n",
    "storage = jnp.empty((num_params, num_K))\n",
    "\n",
    "\n",
    "for t, batch_ix in tqdm(enumerate(batches_ix), total=T):\n",
    "    X_batch = Xf_train[batch_ix, ...]\n",
    "    y_batch = y_ohe_train[batch_ix, ...]\n",
    "    \n",
    "    loss, params_swag = train_step_part(params_swag, opt_state_swag, X_batch, y_batch)\n",
    "    \n",
    "    if t % update_freq == 0:\n",
    "        n = t // update_freq\n",
    "        params_moment = update_first_moment(params_moment, params_swag, n)\n",
    "        params_moment2 = update_second_moment(params_moment2, params_swag, n)\n",
    "        \n",
    "        params_diff = jax.tree_map(lambda x, y: x - y, params_swag, params_moment)\n",
    "        params_diff, *_ = ravel_pytree(params_diff)\n",
    "        storage, index = insert(storage, index, params_diff, num_K)"
   ]
  },
  {
   "cell_type": "code",
   "execution_count": 18,
   "id": "7f18fc41-16f4-48ea-aba0-14b2ae71453e",
   "metadata": {},
   "outputs": [],
   "source": [
    "cpu_device, *_ = jax.devices(\"cpu\")\n",
    "\n",
    "params_swag = params_moment.copy({})\n",
    "Sigma_diag = jax.tree_map(lambda w2, w: w2 - w ** 2, params_moment2, params_moment)\n",
    "Sigma_diag, reconstruct_fn = ravel_pytree(Sigma_diag)\n",
    "\n",
    "params_swag = jax.device_put(params_swag, cpu_device)\n",
    "params_swag, _ = ravel_pytree(params_swag)\n",
    "Sigma_diag = jax.device_put(Sigma_diag, cpu_device) / 2\n",
    "# Sigma_diag = jnp.diag(Sigma_diag) / 2"
   ]
  },
  {
   "cell_type": "code",
   "execution_count": 19,
   "id": "b1443f20-0454-4a59-8923-2120e0ff175e",
   "metadata": {},
   "outputs": [
    {
     "name": "stderr",
     "output_type": "stream",
     "text": [
      "tcmalloc: large alloc 92915236864 bytes == 0x561109afc000 @  0x7f060e830680 0x7f060e851824 0x7f060e851b8a 0x7f0603f35ff4 0x7f060003692f 0x7f060004230c 0x7f06000459e5 0x7f05fff8f37a 0x7f05ffce9f68 0x7f05ffcce00b 0x56108c826714 0x56108c7f69ef 0x56108c787e19 0x56108c7abfdc 0x56108c834b0d 0x56108c835527 0x56108c731c17 0x56108c7321eb 0x56108c7ea8f8 0x56108c87e740 0x56108c834b0d 0x56108c835527 0x56108c7ea7f7 0x56108c87e740 0x56108c835753 0x56108c7ab10d 0x56108c8348e2 0x56108c835527 0x56108c7ea7f7 0x56108c87e740 0x56108c8610ed\n",
      "tcmalloc: large alloc 92915236864 bytes == 0x5626b40f0000 @  0x7f060e830680 0x7f060e851824 0x7f060e851b8a 0x7f0603f35ff4 0x7f060003692f 0x7f060004230c 0x7f06000459e5 0x7f05fff8f37a 0x7f05ffce9f68 0x7f05ffcce00b 0x56108c826714 0x56108c7f69ef 0x56108c787e19 0x56108c7abfdc 0x56108c834b0d 0x56108c835527 0x56108c731c17 0x56108c7321eb 0x56108c7ea8f8 0x56108c87e740 0x56108c834b0d 0x56108c835527 0x56108c7ea7f7 0x56108c87e740 0x56108c835753 0x56108c7ab10d 0x56108c8348e2 0x56108c835527 0x56108c7ea7f7 0x56108c87e740 0x56108c8610ed\n"
     ]
    }
   ],
   "source": [
    "storage = jax.device_put(storage, cpu_device)\n",
    "D = jnp.einsum(\"nk,mk->nm\", storage, storage)\n",
    "D = D / (2 * num_K - 2)"
   ]
  },
  {
   "cell_type": "code",
   "execution_count": 20,
   "id": "30237b1a-9d77-4633-83eb-ce4db95f0019",
   "metadata": {},
   "outputs": [],
   "source": [
    "num_posterior_samples = 10_000"
   ]
  },
  {
   "cell_type": "code",
   "execution_count": 22,
   "id": "2cff18c3-1edd-443d-a49c-516cce206663",
   "metadata": {},
   "outputs": [
    {
     "data": {
      "text/plain": [
       "152410"
      ]
     },
     "execution_count": 22,
     "metadata": {},
     "output_type": "execute_result"
    }
   ],
   "source": [
    "num_params"
   ]
  },
  {
   "cell_type": "code",
   "execution_count": null,
   "id": "74a5d1b7-4a4f-47e2-86d1-392390c33781",
   "metadata": {},
   "outputs": [
    {
     "name": "stderr",
     "output_type": "stream",
     "text": [
      "tcmalloc: large alloc 92915236864 bytes == 0x561109afc000 @  0x7f060e830680 0x7f060e851824 0x7f060e851b8a 0x7f0603f35ff4 0x7f060003692f 0x7f060004230c 0x7f06000459e5 0x7f05fff8f37a 0x7f05ffce9f68 0x7f05ffcce00b 0x56108c826714 0x56108c7f69ef 0x56108c787e19 0x56108c7abfdc 0x56108c834b0d 0x56108c835527 0x56108c731c17 0x56108c7321eb 0x56108c7ea8f8 0x56108c87e740 0x56108c834b0d 0x56108c835527 0x56108c7ea8f8 0x56108c87e740 0x56108c8348e2 0x56108c835527 0x56108c731c17 0x56108c8bb592 0x56108c7ea7f7 0x56108c87e740 0x56108c835753\n"
     ]
    }
   ],
   "source": [
    "full_covariance = D.at[jnp.arange(num_params), jnp.arange(num_params)].set(Sigma_diag)"
   ]
  },
  {
   "cell_type": "code",
   "execution_count": null,
   "id": "4782729f-504f-49ab-a946-55b127968101",
   "metadata": {},
   "outputs": [
    {
     "name": "stderr",
     "output_type": "stream",
     "text": [
      "tcmalloc: large alloc 6096404480 bytes == 0x563c5b3d0000 @  0x7f060e830680 0x7f060e851824 0x7f060e851b8a 0x7f0603f35ff4 0x7f060003692f 0x7f060004230c 0x7f06000459e5 0x7f05fff8f37a 0x7f05ffce9f68 0x7f05ffcce00b 0x56108c826714 0x56108c7f69ef 0x56108c787e19 0x56108c7abfdc 0x56108c834b0d 0x56108c835527 0x56108c731c17 0x56108c7321eb 0x56108c7ea8f8 0x56108c87e740 0x56108c834b0d 0x56108c835527 0x56108c7ea7f7 0x56108c87e740 0x56108c835753 0x56108c7ab10d 0x56108c8348e2 0x56108c835527 0x56108c7ea7f7 0x56108c87e740 0x56108c8610ed\n",
      "tcmalloc: large alloc 185830465536 bytes == 0x563dc71cc000 @  0x7f060e830680 0x7f060e851824 0x7f060e851b8a 0x7f0603f35ff4 0x7f060003692f 0x7f060004230c 0x7f06000459e5 0x7f05fff8f37a 0x7f05ffce9f68 0x7f05ffcce00b 0x56108c826714 0x56108c7f69ef 0x56108c787e19 0x56108c7abfdc 0x56108c834b0d 0x56108c835527 0x56108c731c17 0x56108c7321eb 0x56108c7ea8f8 0x56108c87e740 0x56108c834b0d 0x56108c835527 0x56108c7ea7f7 0x56108c87e740 0x56108c835753 0x56108c7ab10d 0x56108c8348e2 0x56108c835527 0x56108c7ea7f7 0x56108c87e740 0x56108c8610ed\n"
     ]
    }
   ],
   "source": [
    "posterior_samples = jax.random.multivariate_normal(key, params_swag, full_covariance, (num_posterior_samples,))"
   ]
  },
  {
   "cell_type": "code",
   "execution_count": null,
   "id": "4ce46770-a1a5-40fb-aa2d-e87301bc605b",
   "metadata": {},
   "outputs": [],
   "source": [
    "posterior_samples.shape"
   ]
  }
 ],
 "metadata": {
  "kernelspec": {
   "display_name": "Python 3 (ipykernel)",
   "language": "python",
   "name": "python3"
  },
  "language_info": {
   "codemirror_mode": {
    "name": "ipython",
    "version": 3
   },
   "file_extension": ".py",
   "mimetype": "text/x-python",
   "name": "python",
   "nbconvert_exporter": "python",
   "pygments_lexer": "ipython3",
   "version": "3.9.7"
  }
 },
 "nbformat": 4,
 "nbformat_minor": 5
}
