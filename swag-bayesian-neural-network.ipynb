{
 "cells": [
  {
   "cell_type": "markdown",
   "id": "54c45995-adc0-4539-a4ec-b69950da0f69",
   "metadata": {},
   "source": [
    "# (SWAG-approximated) Bayesian Neural Network"
   ]
  },
  {
   "cell_type": "code",
   "execution_count": 205,
   "id": "9d2cce95-cb1b-4302-85f8-935fe868bd7a",
   "metadata": {},
   "outputs": [],
   "source": [
    "import jax\n",
    "import distrax\n",
    "import optax\n",
    "import jax.numpy as jnp\n",
    "import flax.linen as nn\n",
    "import matplotlib.pyplot as plt\n",
    "from typing import Callable\n",
    "from tqdm.notebook import tqdm\n",
    "from functools import partial\n",
    "from sklearn.metrics import confusion_matrix\n",
    "from torchvision.datasets import MNIST\n",
    "from jax.flatten_util import ravel_pytree"
   ]
  },
  {
   "cell_type": "code",
   "execution_count": 26,
   "id": "8f01adbb-7d57-4819-be42-9620e813d317",
   "metadata": {},
   "outputs": [],
   "source": [
    "%config InlineBackend.figure_format = \"retina\""
   ]
  },
  {
   "cell_type": "code",
   "execution_count": null,
   "id": "d8b9ad3a-9640-447b-a8b0-de67b77fe25f",
   "metadata": {},
   "outputs": [],
   "source": [
    "root = \"/tmp/mnist\"\n",
    "mnist_train = MNIST(root, download=True, train=True)\n",
    "mnist_test = MNIST(root, download=True, train=False)"
   ]
  },
  {
   "cell_type": "code",
   "execution_count": 275,
   "id": "4c1942cb-9e79-4426-9f8f-b2cbdc7180e8",
   "metadata": {},
   "outputs": [],
   "source": [
    "class MLP1D(nn.Module):\n",
    "    @nn.compact\n",
    "    def __call__(self, x):\n",
    "        x = nn.relu(nn.Dense(10)(x))\n",
    "        x = nn.relu(nn.Dense(10)(x))\n",
    "        x = nn.relu(nn.Dense(10)(x))\n",
    "        x = nn.Dense(10)(x)\n",
    "        return x\n",
    "\n",
    "    \n",
    "class LeNet5(nn.Module):\n",
    "  num_classes: int\n",
    "  activation: Callable[[jnp.ndarray], jnp.ndarray] = nn.relu\n",
    "    \n",
    "  @nn.compact\n",
    "  def __call__(self, x):\n",
    "    x = x if len(x.shape) > 1 else x[None, :]\n",
    "    x = x.reshape((x.shape[0], 28, 28, 1))\n",
    "    x = self.activation(nn.Conv(features=6, kernel_size=(5,5), padding=\"SAME\")(x))\n",
    "    x = nn.avg_pool(x, window_shape=(2, 2), strides=(2, 2), padding=\"VALID\")\n",
    "    x = self.activation(nn.Conv(features=16, kernel_size=(5,5), padding=\"VALID\")(x))\n",
    "    x = nn.avg_pool(x, window_shape=(2, 2), strides=(2, 2), padding=\"VALID\")\n",
    "    x = x.reshape((x.shape[0], -1))\n",
    "    x = self.activation(nn.Dense(features=120)(x))\n",
    "    x = self.activation(nn.Dense(features=84)(x))\n",
    "    x = nn.Dense(features=self.num_classes)(x)\n",
    "    x = nn.log_softmax(x)\n",
    "    return x\n",
    "\n",
    "class SmallCNN(nn.Module):\n",
    "    num_classes: int\n",
    "    activation: Callable[[jnp.ndarray], jnp.ndarray] = nn.relu\n",
    "    @nn.compact\n",
    "    def __call__(self, x):\n",
    "        x = nn.Conv(features=6, kernel_size=(5, 5), padding=\"SAME\")(x)\n",
    "        x = self.activation(x)\n",
    "        x = nn.avg_pool(x, window_shape=(2, 2), strides=(2, 2), padding=\"VALID\")\n",
    "        x = x.reshape((x.shape[0], -1))\n",
    "        x = nn.Dense(features=120)(x)\n",
    "        x = self.activation(x)\n",
    "        x = nn.Dense(features=84)(x)\n",
    "        x = self.activation(x)\n",
    "        x = nn.Dense(features=self.num_classes)(x)\n",
    "        x = nn.log_softmax(x)\n",
    "        return x\n",
    "        \n",
    "\n",
    "def bnn_log_joint(params, X, y, model):\n",
    "    flatten_params, _ = ravel_pytree(params)\n",
    "    logits = model.apply(params, X)\n",
    "    \n",
    "    log_prior = distrax.Normal(0.0, 1.0).log_prob(flatten_params).sum()\n",
    "    log_likelihood = distrax.Multinomial(10, logits=logits).log_prob(y).sum()\n",
    "    \n",
    "    log_joint = log_prior + log_likelihood\n",
    "    return log_joint\n",
    "\n",
    "def bnn_loss_fn(params, X, y, model): return -bnn_log_joint(params, X, y, model)"
   ]
  },
  {
   "cell_type": "code",
   "execution_count": 268,
   "id": "f587f4b2-6a04-4821-b8cf-df00b932d094",
   "metadata": {},
   "outputs": [],
   "source": [
    "key = jax.random.PRNGKey(314)\n",
    "key_samples, key_init, key_train, key = jax.random.split(key, 4)"
   ]
  },
  {
   "cell_type": "code",
   "execution_count": 308,
   "id": "9957daab-3b79-42a5-bda4-74a18426d3ad",
   "metadata": {},
   "outputs": [],
   "source": [
    "X_train = jnp.array(mnist_train.data)\n",
    "y_train = jnp.array(mnist_train.targets)\n",
    "\n",
    "n_train, *_ = X_train.shape\n",
    "# \"Gaussanised\" MNIST\n",
    "Xf_train = X_train[..., None]\n",
    "Xf_train = Xf_train / Xf_train.max()\n",
    "Xf_train = (Xf_train - Xf_train.mean()) / Xf_train.std()\n",
    "\n",
    "y_ohe_train = jax.nn.one_hot(y_train, 10)\n",
    "\n",
    "num_samples = len(Xf_train)"
   ]
  },
  {
   "cell_type": "code",
   "execution_count": 270,
   "id": "2e75ba8a-bfe4-4cc5-bc23-96303e90a8f1",
   "metadata": {},
   "outputs": [
    {
     "data": {
      "image/png": "[encoded data removed]",
      "text/plain": [
       "<Figure size 360x360 with 4 Axes>"
      ]
     },
     "metadata": {
      "image/png": {
       "height": 352,
       "width": 351
      },
      "needs_background": "light"
     },
     "output_type": "display_data"
    }
   ],
   "source": [
    "key = jax.random.PRNGKey(314)\n",
    "key_sample, key = jax.random.split(key)\n",
    "ixs = jax.random.choice(key, n_train, (4,))\n",
    "\n",
    "fig, axs = plt.subplots(2, 2, figsize=(5, 5))\n",
    "axs = axs.ravel()\n",
    "for ix, ax in zip(ixs, axs):\n",
    "    ax.imshow(Xf_train[ix].reshape(28, 28))\n",
    "    ax.axis(\"off\")\n",
    "plt.tight_layout()"
   ]
  },
  {
   "cell_type": "code",
   "execution_count": 272,
   "id": "686d93fa-3b2f-4068-9c24-14270cc45ee5",
   "metadata": {},
   "outputs": [],
   "source": [
    "@jax.jit\n",
    "def train_step(params, opt_state, X_batch, y_batch):\n",
    "    loss_fn = partial(bnn_loss_fn, X=X_batch, y=y_batch, model=model)\n",
    "    loss_grad_fn = jax.value_and_grad(loss_fn)\n",
    "    \n",
    "    loss_val, grads = loss_grad_fn(params)\n",
    "    updates, opt_state = tx.update(grads, opt_state)\n",
    "    params = optax.apply_updates(params, updates)\n",
    "    \n",
    "    return loss_val, params\n",
    "    \n",
    "\n",
    "def get_batch_train_ixs(key, num_samples, batch_size):\n",
    "    \"\"\"\n",
    "    Obtain the training indices to be used in an epoch of\n",
    "    mini-batch optimisation.\n",
    "    \"\"\"\n",
    "    steps_per_epoch = num_samples // batch_size\n",
    "    \n",
    "    batch_ixs = jax.random.permutation(key, num_samples)\n",
    "    batch_ixs = batch_ixs[:steps_per_epoch * batch_size]\n",
    "    batch_ixs = batch_ixs.reshape(steps_per_epoch, batch_size)\n",
    "    \n",
    "    return batch_ixs\n",
    "\n",
    "\n",
    "def train_epoch_sgd(key, params, opt_step, X, y, batch_size, epoch):\n",
    "    num_samples = len(X)\n",
    "    batch_ixs = get_batch_train_ixs(key, num_samples, batch_size)\n",
    "    \n",
    "    total_loss = 0\n",
    "    num_batches = len(batch_ixs)\n",
    "    \n",
    "    for batch_ix in batch_ixs:\n",
    "        X_batch = X[batch_ix, ...]\n",
    "        y_batch = y[batch_ix, ...]\n",
    "        loss, params = train_step(params, opt_step, X_batch, y_batch)\n",
    "        total_loss += loss\n",
    "    \n",
    "    mean_loss = total_loss / num_batches\n",
    "    return params, opt_step, mean_loss"
   ]
  },
  {
   "cell_type": "code",
   "execution_count": 301,
   "id": "e7dbc2f4-a788-4906-9696-17f459ba289b",
   "metadata": {},
   "outputs": [
    {
     "data": {
      "application/vnd.jupyter.widget-view+json": {
       "model_id": "ebd6bbf74d624738ab19986f98c17c55",
       "version_major": 2,
       "version_minor": 0
      },
      "text/plain": [
       "  0%|          | 0/150 [00:00<?, ?it/s]"
      ]
     },
     "metadata": {},
     "output_type": "display_data"
    }
   ],
   "source": [
    "batch_size = 500\n",
    "num_epochs = 150\n",
    "learning_rate = 1e-5\n",
    "tx = optax.adam(learning_rate=learning_rate)\n",
    "\n",
    "model = SmallCNN(10)\n",
    "\n",
    "batch = jnp.ones((batch_size, 28, 28, 1))\n",
    "params = model.init(key_init, batch)\n",
    "opt_state = tx.init(params)\n",
    "\n",
    "losses = []\n",
    "\n",
    "loss_old = jnp.inf\n",
    "for e in tqdm(range(num_epochs)):\n",
    "    _, key_train = jax.random.split(key_train)\n",
    "    params, opt_state, loss = train_epoch_sgd(key_train, params, opt_state,\n",
    "                                              Xf_train, y_ohe_train, batch_size, e)\n",
    "    losses.append(loss)\n",
    "    \n",
    "    if abs(loss / loss_old - 1) < 1e-7:\n",
    "        break\n",
    "    else:\n",
    "        loss_old = loss"
   ]
  },
  {
   "cell_type": "code",
   "execution_count": 302,
   "id": "5f4e074e-8aba-4aac-83b6-3a6b6021c922",
   "metadata": {},
   "outputs": [
    {
     "name": "stdout",
     "output_type": "stream",
     "text": [
      "CPU times: user 82.1 ms, sys: 0 ns, total: 82.1 ms\n",
      "Wall time: 112 ms\n"
     ]
    }
   ],
   "source": [
    "%%time\n",
    "yhat_train = model.apply(params, Xf_train).argmax(axis=1)"
   ]
  },
  {
   "cell_type": "code",
   "execution_count": 306,
   "id": "91fd1631-02cd-4b1e-9b16-d99956e9da41",
   "metadata": {},
   "outputs": [
    {
     "name": "stdout",
     "output_type": "stream",
     "text": [
      "97.90%\n"
     ]
    },
    {
     "data": {
      "text/plain": [
       "array([[5903,    0,    2,    0,    0,    7,    0,    0,    3,    8],\n",
       "       [   2, 6699,    8,    1,    8,    2,    3,    7,    2,   10],\n",
       "       [   7,    1, 5922,    2,    1,    1,    2,    6,    3,   13],\n",
       "       [   6,    3,   26, 5858,    0,  148,    1,    2,   11,   76],\n",
       "       [   5,    4,    1,    0, 5726,    0,   10,    1,    2,   93],\n",
       "       [   6,    1,    1,    0,    0, 5394,    8,    0,    1,   10],\n",
       "       [  17,    1,    2,    0,    2,   17, 5877,    0,    2,    0],\n",
       "       [  10,    9,   50,    2,    8,    8,    0, 5752,    7,  419],\n",
       "       [  10,    8,   14,    4,    4,   45,    8,    0, 5686,   72],\n",
       "       [   7,    1,    0,    0,    8,    3,    0,    2,    4, 5924]])"
      ]
     },
     "execution_count": 306,
     "metadata": {},
     "output_type": "execute_result"
    }
   ],
   "source": [
    "acc_train = (y_train == yhat_train).mean()\n",
    "print(f\"{acc_train:0.2%}\")\n",
    "confusion_matrix(y_train, yhat_train)"
   ]
  },
  {
   "cell_type": "code",
   "execution_count": 307,
   "id": "ccebe422-cf45-4ba6-bb59-ad42f015cddf",
   "metadata": {},
   "outputs": [
    {
     "data": {
      "text/plain": [
       "[<matplotlib.lines.Line2D at 0x7ff8ad338670>]"
      ]
     },
     "execution_count": 307,
     "metadata": {},
     "output_type": "execute_result"
    },
    {
     "data": {
      "image/png": "[encoded data removed]",
      "text/plain": [
       "<Figure size 432x288 with 1 Axes>"
      ]
     },
     "metadata": {
      "image/png": {
       "height": 248,
       "width": 394
      },
      "needs_background": "light"
     },
     "output_type": "display_data"
    }
   ],
   "source": [
    "plt.plot(losses)"
   ]
  },
  {
   "cell_type": "markdown",
   "id": "9f2ac374-cd45-4818-8e94-79394e61914d",
   "metadata": {},
   "source": [
    "## Swag"
   ]
  },
  {
   "cell_type": "code",
   "execution_count": 368,
   "id": "b3299160-5124-4ee0-bf45-028f97440d7f",
   "metadata": {},
   "outputs": [],
   "source": [
    "def get_swag_ixs(key, num_samples, batch_size, num_data_passes):\n",
    "    \"\"\"\n",
    "    Obtain the training indices to be used in an epoch of\n",
    "    mini-batch optimisation.\n",
    "    \"\"\"\n",
    "    keys = jax.random.split(key, num_data_passes)\n",
    "    batches_fn = jax.vmap(get_batch_train_ixs, (0, None, None))\n",
    "    batches_ix = batches_fn(keys, num_samples, batch_size)\n",
    "    batches_ix = batches_ix.reshape(-1, batch_size)\n",
    "    \n",
    "    return batches_ix\n",
    "\n",
    "\n",
    "def update_first_moment(moment, params, n):\n",
    "    moment = jax.tree_map(lambda mean, theta: (n * mean + theta) / (n + 1),\n",
    "                          moment, params)\n",
    "    return moment\n",
    "\n",
    "\n",
    "def update_second_moment(moment, params, n):\n",
    "    moment = jax.tree_map(lambda mean2, theta: (n * mean2 + theta ** 2) / (n + 1),\n",
    "                          moment, params)\n",
    "    return moment\n",
    "\n",
    "\n",
    "def train_step(params, opt_state, X_batch, y_batch, tx, loss_fn, model):\n",
    "    loss_fn = partial(loss_fn, X=X_batch, y=y_batch, model=model)\n",
    "    loss_grad_fn = jax.value_and_grad(loss_fn)\n",
    "    \n",
    "    loss_val, grads = loss_grad_fn(params)\n",
    "    updates, opt_state = tx.update(grads, opt_state)\n",
    "    params = optax.apply_updates(params, updates)\n",
    "    \n",
    "    return loss_val, params"
   ]
  },
  {
   "cell_type": "code",
   "execution_count": 362,
   "id": "9be0e8ad-d125-425f-93f9-f869209a5822",
   "metadata": {},
   "outputs": [],
   "source": [
    "batches_ix = get_swag_ixs(key, num_samples, batch_size, 10)\n",
    "T = len(batches_ix)"
   ]
  },
  {
   "cell_type": "code",
   "execution_count": 369,
   "id": "b0fd323f-e1b5-458b-9f36-aa99e2c1d6bc",
   "metadata": {},
   "outputs": [
    {
     "data": {
      "application/vnd.jupyter.widget-view+json": {
       "model_id": "ef1cbd448a4d4157bf7d47c1e096a919",
       "version_major": 2,
       "version_minor": 0
      },
      "text/plain": [
       "  0%|          | 0/1200 [00:00<?, ?it/s]"
      ]
     },
     "metadata": {},
     "output_type": "display_data"
    }
   ],
   "source": [
    "learning_rate = 1e-5\n",
    "tx_swag = optax.sgd(learning_rate=learning_rate)\n",
    "train_step_part = jax.jit(partial(train_step, tx=tx_swag, loss_fn=bnn_loss_fn, model=model))\n",
    "\n",
    "# SWAG - moment params\n",
    "params_moment = params.copy({})\n",
    "params_moment2 = jax.tree_map(lambda x: x ** 2, params)\n",
    "\n",
    "opt_state_swag = tx_swag.init(params_moment)\n",
    "\n",
    "for t, batch_ix in tqdm(enumerate(batches_ix), total=T):\n",
    "    X_batch = Xf_train[batch_ix, ...]\n",
    "    y_batch = y_ohe_train[batch_ix, ...]\n",
    "    \n",
    "    loss, params_moment = train_step_part(params_moment, opt_state_swag, X_batch, y_batch)"
   ]
  }
 ],
 "metadata": {
  "kernelspec": {
   "display_name": "Python 3 (ipykernel)",
   "language": "python",
   "name": "python3"
  },
  "language_info": {
   "codemirror_mode": {
    "name": "ipython",
    "version": 3
   },
   "file_extension": ".py",
   "mimetype": "text/x-python",
   "name": "python",
   "nbconvert_exporter": "python",
   "pygments_lexer": "ipython3",
   "version": "3.9.7"
  }
 },
 "nbformat": 4,
 "nbformat_minor": 5
}
