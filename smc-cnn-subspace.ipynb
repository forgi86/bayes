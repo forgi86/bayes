{
 "cells": [
  {
   "cell_type": "markdown",
   "id": "f18b4945-f997-4324-ac46-4b813d7782a5",
   "metadata": {},
   "source": [
    "# Online CNN training on a subspace using SMC"
   ]
  },
  {
   "cell_type": "code",
   "execution_count": 1,
   "id": "f73e5529-2b27-44d2-9cde-2f77a2cb49d0",
   "metadata": {
    "tags": []
   },
   "outputs": [
    {
     "name": "stderr",
     "output_type": "stream",
     "text": [
      "2022-09-07 09:34:57.861347: W tensorflow/stream_executor/platform/default/dso_loader.cc:64] Could not load dynamic library 'libcudart.so.11.0'; dlerror: libcudart.so.11.0: cannot open shared object file: No such file or directory\n"
     ]
    }
   ],
   "source": [
    "import jax\n",
    "import jax.numpy as jnp\n",
    "import flax.linen as nn\n",
    "import matplotlib.pyplot as plt\n",
    "from jax.flatten_util import ravel_pytree\n",
    "from functools import partial\n",
    "from chex import ArrayDevice\n",
    "from collections.abc import Callable\n",
    "from tensorflow_probability.substrates import jax as tfp\n",
    "from torchvision.datasets import MNIST\n",
    "from sklearn.metrics import confusion_matrix\n",
    "\n",
    "tfd = tfp.distributions"
   ]
  },
  {
   "cell_type": "code",
   "execution_count": 2,
   "id": "2b5e1331-64e2-4c6a-9088-1d8566ffc9c1",
   "metadata": {},
   "outputs": [],
   "source": [
    "%config InlineBackend.figure_format = \"retina\"\n",
    "\n",
    "plt.rcParams[\"axes.spines.right\"] = False\n",
    "plt.rcParams[\"axes.spines.top\"] = False\n",
    "jnp.set_printoptions(linewidth=200, suppress=True)"
   ]
  },
  {
   "cell_type": "code",
   "execution_count": 3,
   "id": "520b82b7-5d6f-482d-b530-50632b0560a6",
   "metadata": {},
   "outputs": [],
   "source": [
    "device_cpu, *_ = jax.devices(\"cpu\")"
   ]
  },
  {
   "cell_type": "code",
   "execution_count": 4,
   "id": "54db0e5c-b832-436f-92a9-4522d22a301c",
   "metadata": {},
   "outputs": [],
   "source": [
    "root = \"/tmp/mnist\"\n",
    "mnist_train = MNIST(root, download=True, train=True)\n",
    "mnist_test = MNIST(root, download=True, train=False)"
   ]
  },
  {
   "cell_type": "code",
   "execution_count": 5,
   "id": "e8263e22-278e-4a3d-9d2a-d5347912f004",
   "metadata": {},
   "outputs": [],
   "source": [
    "class MLP(nn.Module):\n",
    "    n_hidden: int\n",
    "    n_out: int\n",
    "    activation: Callable[[ArrayDevice], ArrayDevice] = nn.relu\n",
    "    \n",
    "    @nn.compact\n",
    "    def __call__(self, x):\n",
    "        x = nn.Dense(self.n_hidden)(x)\n",
    "        x = self.activation(x)\n",
    "        x = nn.Dense(self.n_out)(x)\n",
    "        return x\n",
    "\n",
    "    \n",
    "def fz(W):\n",
    "    return W\n",
    "\n",
    "\n",
    "def f(x):\n",
    "    return x - 10 * jnp.cos(x) * jnp.sin(x) + x ** 3\n",
    "\n",
    "\n",
    "def sample_observations(key, f, n_obs, xmin, xmax, x_noise=0.1, y_noise=3.0):\n",
    "    key_x, key_y, key_shuffle = jax.random.split(key, 3)\n",
    "    x_noise = jax.random.normal(key_x, (n_obs,)) * x_noise\n",
    "    y_noise = jax.random.normal(key_y, (n_obs,)) * y_noise\n",
    "    x = jnp.linspace(xmin, xmax, n_obs) + x_noise\n",
    "    y = f(x) + y_noise\n",
    "    X = jnp.c_[x, y]\n",
    "\n",
    "    shuffled_ixs = jax.random.permutation(key_shuffle, jnp.arange(n_obs))\n",
    "    X, y = jnp.array(X[shuffled_ixs, :].T)\n",
    "    return X, y\n",
    "\n",
    "\n",
    "def generate_train_test_data(key, f, n_obs, xmin, xmax, x_noise=0.1, y_noise=3.0):\n",
    "    x, y = sample_observations(key, f, n_obs, xmin, xmax, x_noise, y_noise)\n",
    "    xtest = jnp.linspace(x.min(), x.max(), n_obs)\n",
    "    return (x, y), (xtest, f(xtest))\n",
    "\n",
    "\n",
    "class SmallCNN(nn.Module):\n",
    "    num_classes: int\n",
    "    activation: Callable[[jnp.ndarray], jnp.ndarray] = nn.tanh\n",
    "    @nn.compact\n",
    "    def __call__(self, x):\n",
    "        x = nn.Conv(features=6, kernel_size=(5, 5), padding=\"SAME\")(x)\n",
    "        x = self.activation(x)\n",
    "        x = nn.avg_pool(x, window_shape=(2, 2), strides=(2, 2), padding=\"VALID\")\n",
    "        x = x.reshape((x.shape[0], -1))\n",
    "        x = nn.Dense(features=120)(x)\n",
    "        x = self.activation(x)\n",
    "        x = nn.Dense(features=84)(x)\n",
    "        x = self.activation(x)\n",
    "        x = nn.Dense(features=self.num_classes)(x)\n",
    "        # x = nn.log_softmax(x)\n",
    "        return x\n",
    "\n",
    "\n",
    "def smc_step(state, xs, reconstruct_fn, projection_matrix, dim_output):\n",
    "    (log_weights_prev, particles_prev) = state\n",
    "    (key, xobs, yobs) = xs\n",
    "    \n",
    "    key_resample, key_propagate = jax.random.split(key)\n",
    "    \n",
    "    # 1. Resample particles\n",
    "    weights = jnp.exp(log_weights_prev - jax.nn.logsumexp(log_weights_prev))\n",
    "    # ix_resample = jax.random.choice(key_resample, p=weights n_particles, shape=(n_particles,))\n",
    "    ix_resample = jax.random.choice(key_resample, n_particles, shape=(n_particles,))\n",
    "    \n",
    "    # 2. Propagate particles:\n",
    "    #    Sample new particles conditioned on resampled particles\n",
    "    new_particles_cond = jax.tree_map(lambda x: x[ix_resample], particles_prev)\n",
    "    distr_cond = tfd.Normal(loc=new_particles_cond, scale=0.1)\n",
    "    particles_next = distr_cond.sample(seed=key_propagate)\n",
    "    \n",
    "    particles_full = jnp.einsum(\"pk,mk->pm\", particles_next, projection_matrix)\n",
    "    particles_full = jax.vmap(reconstruct_fn)(particles_full)\n",
    "    \n",
    "    # 3. Construct new weights\n",
    "    logits = jax.vmap(model.apply, (0, None))(particles_full, xobs[None, ...])[:, 0, :]\n",
    "    dist_obs = tfd.Multinomial(dim_output, logits=logits)\n",
    "\n",
    "    log_weights_next = dist_obs.log_prob(yobs)\n",
    "    \n",
    "    state_next = (log_weights_next, particles_next)\n",
    "    \n",
    "    memory = {\n",
    "        \"particles\": particles_next,\n",
    "        \"log_target\": distr_cond.log_prob(particles_next).sum(axis=1) + log_weights_next\n",
    "    }\n",
    "    \n",
    "    return state_next, memory"
   ]
  },
  {
   "cell_type": "code",
   "execution_count": 6,
   "id": "7d017873-ce42-4d84-878c-e01282f46796",
   "metadata": {},
   "outputs": [],
   "source": [
    "key = jax.random.PRNGKey(314)\n",
    "key_sample_obs, key_weights, key_particles_init, key_smc, key_dummy, key_pm = jax.random.split(key, 6)"
   ]
  },
  {
   "cell_type": "markdown",
   "id": "49404c11-2e6b-46da-bb6b-ec0f8e214e06",
   "metadata": {},
   "source": [
    "## Classification on a $28^2$-dimensional subspace"
   ]
  },
  {
   "cell_type": "code",
   "execution_count": 7,
   "id": "b91bd572-93d0-43e7-a8d1-c6244746ea63",
   "metadata": {},
   "outputs": [],
   "source": [
    "n_obs = 1000\n",
    "X_train = jnp.array(mnist_train.data)[:n_obs]\n",
    "y_train = jnp.array(mnist_train.targets)[:n_obs]\n",
    "\n",
    "num_train, *_ = X_train.shape\n",
    "# \"Gaussanised\" MNIST\n",
    "X_train = X_train[..., None]\n",
    "xmax = X_train.max()\n",
    "\n",
    "X_train = X_train / xmax\n",
    "\n",
    "xmean = X_train.mean()\n",
    "xstd = X_train.std()\n",
    "X_train = (X_train - xmean) / xstd\n",
    "\n",
    "y_ohe_train = jax.nn.one_hot(y_train, 10)\n",
    "num_samples = len(X_train)"
   ]
  },
  {
   "cell_type": "code",
   "execution_count": 8,
   "id": "f6ceb3fc-1126-4f2a-b3f4-e0740e902472",
   "metadata": {},
   "outputs": [],
   "source": [
    "n_particles = 1500\n",
    "dim_subspace = 200\n",
    "\n",
    "model = SmallCNN(10)\n",
    "batch = jnp.ones((1, 28, 28, 1))\n",
    "params_all = model.init(key_dummy, batch)\n",
    "params_all_flat, params_reconstruct_fn = ravel_pytree(params_all)"
   ]
  },
  {
   "cell_type": "code",
   "execution_count": 10,
   "id": "956627cf-b058-40e0-b2fe-23d99f13991a",
   "metadata": {},
   "outputs": [
    {
     "data": {
      "text/plain": [
       "(152410, 200)"
      ]
     },
     "execution_count": 10,
     "metadata": {},
     "output_type": "execute_result"
    }
   ],
   "source": [
    "dim_full = len(params_all_flat)\n",
    "# proj_matrix = jax.random.bernoulli(key_pm, p=0.5, shape=(dim_full, dim_subspace)).astype(float)\n",
    "\n",
    "# key_pm = jax.device_put(key_pm, device_cpu) # Move pmatrix to CPU if too big to fit in TPU\n",
    "proj_matrix = jax.random.normal(key_pm, shape=(dim_full, dim_subspace))\n",
    "\n",
    "particles_init = jax.random.normal(key_particles_init, (n_particles, dim_subspace))\n",
    "log_weights_init = jnp.zeros((n_particles,))\n",
    "\n",
    "proj_matrix.shape"
   ]
  },
  {
   "cell_type": "code",
   "execution_count": 11,
   "id": "c58a1760-c94c-45cf-a59e-f9e62cee8478",
   "metadata": {
    "tags": []
   },
   "outputs": [
    {
     "name": "stderr",
     "output_type": "stream",
     "text": [
      "WARNING:root:The use of `check_types` is deprecated and does not have any effect.\n"
     ]
    },
    {
     "name": "stdout",
     "output_type": "stream",
     "text": [
      "CPU times: user 14.6 s, sys: 66.3 ms, total: 14.7 s\n",
      "Wall time: 42.3 s\n"
     ]
    }
   ],
   "source": [
    "%%time\n",
    "keys_smc = jax.random.split(key_smc, n_obs)\n",
    "\n",
    "init_state = (log_weights_init, particles_init)\n",
    "xs = (keys_smc, X_train, y_ohe_train)\n",
    "part_smc_step = partial(smc_step,\n",
    "                        reconstruct_fn=params_reconstruct_fn,\n",
    "                        projection_matrix=proj_matrix,\n",
    "                        dim_output=10)\n",
    "\n",
    "(_, particles_final_sub), hist = jax.block_until_ready(jax.lax.scan(part_smc_step, init_state, xs))"
   ]
  },
  {
   "cell_type": "code",
   "execution_count": 12,
   "id": "d4253720-54fe-4c12-a006-a0fab88a4cd5",
   "metadata": {},
   "outputs": [
    {
     "data": {
      "image/png": "[encoded data removed]",
      "text/plain": [
       "<Figure size 640x480 with 1 Axes>"
      ]
     },
     "metadata": {
      "image/png": {
       "height": 436,
       "width": 590
      }
     },
     "output_type": "display_data"
    }
   ],
   "source": [
    "log_targets_hist = hist[\"log_target\"]\n",
    "# Log-unnormalised target distribution\n",
    "log_utarget = log_targets_hist.sum(axis=0).mean()\n",
    "plt.plot(log_targets_hist.cumsum(axis=0).mean(axis=1))\n",
    "plt.title(r\"$\\tilde\\gamma({\\bf z}_{1:T})=\" f\"{log_utarget:,.2f}$\")\n",
    "plt.grid()"
   ]
  },
  {
   "cell_type": "code",
   "execution_count": 13,
   "id": "9f104125-219d-48fa-94f1-d5ab6509b610",
   "metadata": {},
   "outputs": [
    {
     "name": "stderr",
     "output_type": "stream",
     "text": [
      "tcmalloc: large alloc 2822406144 bytes == 0x561848922000 @  0x7f2baad11680 0x7f2baad32824 0x7f2baad32b8a 0x7f2ba040aff4 0x7f2b9c50b92f 0x7f2b9c51730c 0x7f2b9c51a9e5 0x7f2b9c46437a 0x7f2b9c1bef68 0x7f2b9c1a300b 0x56177251c8f4 0x5617724d647f 0x56177245020f 0x561772499300 0x561772530fe3 0x561772531cb4 0x561772415328 0x561772419171 0x5617724e030a 0x561772571e7a 0x561772530fe3 0x561772531cb4 0x5617724e030a 0x561772571e7a 0x561772530fe3 0x561772531d24 0x561772415328 0x5617725b14a2 0x5617724e01ea 0x561772571e7a 0x561772531be4\n",
      "tcmalloc: large alloc 2822406144 bytes == 0x5618f1644000 @  0x7f2baad11680 0x7f2baad32824 0x7f2b9cc79ee5 0x7f2b9cd0148b 0x7f2b9cd01af9 0x7f295f5e90a3 0x7f2b9c51a9e5 0x7f2b9c46437a 0x7f2b9c1bef68 0x7f2b9c1a300b 0x56177251c8f4 0x5617724d647f 0x56177245020f 0x561772499300 0x561772530fe3 0x561772531cb4 0x561772415328 0x561772419171 0x5617724e030a 0x561772571e7a 0x561772530fe3 0x561772531cb4 0x5617724e030a 0x561772571e7a 0x561772530fe3 0x561772531d24 0x561772415328 0x5617725b14a2 0x5617724e01ea 0x561772571e7a 0x561772531be4\n",
      "tcmalloc: large alloc 2822406144 bytes == 0x5618f1644000 @  0x7f2baad11680 0x7f2baad32824 0x7f2baad32b8a 0x7f2ba040aff4 0x7f2b9c50b92f 0x7f2b9c51730c 0x7f2b9c51a9e5 0x7f2b9c46437a 0x7f2b9c1bef68 0x7f2b9c1a300b 0x56177251c8f4 0x5617724d647f 0x56177245020f 0x561772499300 0x561772530fe3 0x561772531cb4 0x561772415328 0x561772419171 0x5617724e030a 0x561772571e7a 0x561772530fe3 0x561772531cb4 0x5617724e030a 0x561772571e7a 0x561772530fe3 0x561772531d24 0x561772415328 0x5617725b14a2 0x5617724e01ea 0x561772571e7a 0x561772531be4\n",
      "tcmalloc: large alloc 2822406144 bytes == 0x561848922000 @  0x7f2baad11680 0x7f2baad32824 0x7f2baad32b8a 0x7f2ba040aff4 0x7f2b9c50b92f 0x7f2b9c51730c 0x7f2b9c51a9e5 0x7f2b9c46437a 0x7f2b9c1bef68 0x7f2b9c1a300b 0x56177251c8f4 0x5617724d647f 0x56177245020f 0x561772499300 0x561772530fe3 0x561772531cb4 0x561772415328 0x561772419171 0x5617724e030a 0x561772571e7a 0x561772530fe3 0x561772531d24 0x5617724e01ea 0x561772571e7a 0x561772531be4 0x5617724992da 0x561772530fe3 0x561772531d24 0x5617724e01ea 0x561772571e7a 0x561772530fe3\n",
      "tcmalloc: large alloc 2822406144 bytes == 0x5618f1644000 @  0x7f2baad11680 0x7f2baad32824 0x7f2baad32b8a 0x7f2ba040aff4 0x7f2b9c50b92f 0x7f2b9c51730c 0x7f2b9c51a9e5 0x7f2b9c46437a 0x7f2b9c1bef68 0x7f2b9c1a300b 0x56177251c8f4 0x5617724d647f 0x56177245020f 0x561772499300 0x561772530fe3 0x561772531cb4 0x561772415328 0x561772419171 0x5617724e030a 0x561772571e7a 0x561772530fe3 0x561772531d24 0x5617724e01ea 0x561772571e7a 0x561772531be4 0x5617724992da 0x561772530fe3 0x561772531d24 0x5617724e01ea 0x561772571e7a 0x561772530fe3\n"
     ]
    },
    {
     "name": "stdout",
     "output_type": "stream",
     "text": [
      "CPU times: user 20.2 s, sys: 29.4 s, total: 49.6 s\n",
      "Wall time: 6 s\n"
     ]
    }
   ],
   "source": [
    "%%time \n",
    "particles_final = jnp.einsum(\"pk,mk->pm\", particles_final_sub, proj_matrix)\n",
    "particles_final = jax.vmap(params_reconstruct_fn)(particles_final)\n",
    "\n",
    "particles_final = jax.device_put(particles_final, device_cpu)\n",
    "X_train_cpu = jax.device_put(X_train, device_cpu)\n",
    "\n",
    "yhat_train = jax.vmap(model.apply, (0, None))(particles_final, X_train_cpu[:100])\n",
    "yhat_train = jax.nn.softmax(yhat_train)"
   ]
  },
  {
   "cell_type": "code",
   "execution_count": 14,
   "id": "437fe149-4fec-4cfc-a905-92e4d50fe3e0",
   "metadata": {},
   "outputs": [
    {
     "data": {
      "text/plain": [
       "array([[ 1,  3,  1,  0,  0,  1,  5,  1,  0,  1],\n",
       "       [ 0,  9,  0,  0,  0,  0,  5,  0,  0,  0],\n",
       "       [ 0,  3,  0,  1,  0,  0,  0,  0,  0,  2],\n",
       "       [ 0,  8,  0,  1,  1,  0,  0,  0,  0,  1],\n",
       "       [ 0,  3,  0,  0,  1,  1,  2,  0,  1,  3],\n",
       "       [ 0,  1,  0,  0,  2,  0,  0,  0,  0,  2],\n",
       "       [ 0,  4,  0,  0,  0,  0,  7,  0,  0,  0],\n",
       "       [ 0,  6,  0,  0,  0,  0,  3,  0,  1,  0],\n",
       "       [ 0,  6,  0,  1,  0,  0,  1,  0,  0,  0],\n",
       "       [ 0, 10,  0,  0,  0,  0,  0,  0,  0,  1]])"
      ]
     },
     "execution_count": 14,
     "metadata": {},
     "output_type": "execute_result"
    }
   ],
   "source": [
    "yhat_train_argmax = yhat_train.mean(axis=0).argmax(axis=-1)\n",
    "confusion_matrix(y_train[:100], yhat_train_argmax)"
   ]
  },
  {
   "cell_type": "code",
   "execution_count": 15,
   "id": "e8e66be9-e746-4174-a669-c65d5639e852",
   "metadata": {},
   "outputs": [
    {
     "data": {
      "text/plain": [
       "DeviceArray([4, 6, 9, 6, 1, 1, 1, 9, 1, 9], dtype=int32)"
      ]
     },
     "execution_count": 15,
     "metadata": {},
     "output_type": "execute_result"
    }
   ],
   "source": [
    "yhat_train_argmax[:10]"
   ]
  },
  {
   "cell_type": "code",
   "execution_count": 16,
   "id": "7aca613c-5639-4bfd-b38c-7a15a2129d8a",
   "metadata": {},
   "outputs": [
    {
     "data": {
      "text/plain": [
       "DeviceArray([5, 0, 4, 1, 9, 2, 1, 3, 1, 4], dtype=int32)"
      ]
     },
     "execution_count": 16,
     "metadata": {},
     "output_type": "execute_result"
    }
   ],
   "source": [
    "y_train[:10]"
   ]
  },
  {
   "cell_type": "code",
   "execution_count": 17,
   "id": "4a973703-ab0b-4da2-96ad-431973f37f7c",
   "metadata": {},
   "outputs": [
    {
     "data": {
      "text/plain": [
       "DeviceArray(0.19999999, dtype=float32)"
      ]
     },
     "execution_count": 17,
     "metadata": {},
     "output_type": "execute_result"
    }
   ],
   "source": [
    "(yhat_train_argmax == y_train[:100]).mean()"
   ]
  }
 ],
 "metadata": {
  "kernelspec": {
   "display_name": "Python 3 (ipykernel)",
   "language": "python",
   "name": "python3"
  },
  "language_info": {
   "codemirror_mode": {
    "name": "ipython",
    "version": 3
   },
   "file_extension": ".py",
   "mimetype": "text/x-python",
   "name": "python",
   "nbconvert_exporter": "python",
   "pygments_lexer": "ipython3",
   "version": "3.9.12"
  }
 },
 "nbformat": 4,
 "nbformat_minor": 5
}
