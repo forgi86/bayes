{
 "cells": [
  {
   "cell_type": "markdown",
   "id": "b9b39933-1298-47d0-a141-dd40061e29e9",
   "metadata": {},
   "source": [
    "# Variational Autoencoders (VAE)\n",
    "\n",
    "Based on [`vae/train.py`](https://github.com/google/flax/blob/main/examples/vae/train.py) Flax example.\n",
    "\n",
    "Stochastic gradient variational Bayes (SGVB). VLB Monte Carlo estimate\n",
    "$$\n",
    "    \\hat{\\mathcal{L}}(\\boldsymbol\\theta, \\boldsymbol\\phi; {\\bf X}) = \\sum_{n=1}^N \\log p_{\\theta_x}({\\bf x}_n \\vert \\hat{\\bf z}_n) + \\log p_{\\theta_z}(\\hat{\\bf z}_n) - \\log p(\\hat{\\boldsymbol\\varepsilon}_n) + \\log d_\\phi(\\hat{\\boldsymbol\\varepsilon}_n, {\\bf x}_n)\n",
    "$$"
   ]
  },
  {
   "cell_type": "code",
   "execution_count": 79,
   "id": "21be8924-ef86-4f79-aa97-cbda21544885",
   "metadata": {},
   "outputs": [],
   "source": [
    "import jax\n",
    "import optax\n",
    "import jax.numpy as jnp\n",
    "import flax.linen as nn\n",
    "import matplotlib.pyplot as plt\n",
    "from flax.training import train_state"
   ]
  },
  {
   "cell_type": "code",
   "execution_count": 2,
   "id": "f8e74bf9-cccc-4748-9c48-9e073e7a98d4",
   "metadata": {},
   "outputs": [],
   "source": [
    "%config InlineBackend.figure_format = \"retina\""
   ]
  },
  {
   "cell_type": "code",
   "execution_count": 18,
   "id": "13369b18-37b6-4b8d-a382-1541ce3a2fc2",
   "metadata": {},
   "outputs": [],
   "source": [
    "# Taken from jax's website\n",
    "# https://jax.readthedocs.io/en/latest/notebooks/Neural_Network_and_Data_Loading.html\n",
    "from torchvision.datasets import MNIST\n",
    "\n",
    "\n",
    "class FlattenAndCast(object):\n",
    "  def __call__(self, pic):\n",
    "    return np.ravel(np.array(pic, dtype=jnp.float32))\n",
    "\n",
    "root = \"/tmp/mnist\"\n",
    "mnist_train = MNIST(root, download=True, train=True)\n",
    "mnist_test = MNIST(root, download=True, train=False)"
   ]
  },
  {
   "cell_type": "code",
   "execution_count": 91,
   "id": "9739125c-6c42-4226-87d1-0d41effae08d",
   "metadata": {},
   "outputs": [],
   "source": [
    "X_train = jnp.array(mnist_train.data)\n",
    "n_train, *_ = X_train.shape\n",
    "# \"Gaussanised\" MNIST\n",
    "Xf_train = X_train.reshape(-1, 28 ** 2)\n",
    "Xf_train = X_train / X_train.max()\n",
    "Xf_train = (Xf_train - Xf_train.mean()) / Xf_train.std()"
   ]
  },
  {
   "cell_type": "code",
   "execution_count": 92,
   "id": "a8aa33ef-2672-4ed5-abe2-e9cb0ff4fd5c",
   "metadata": {},
   "outputs": [
    {
     "data": {
      "image/png": "[encoded data removed]",
      "text/plain": [
       "<Figure size 360x360 with 4 Axes>"
      ]
     },
     "metadata": {
      "image/png": {
       "height": 352,
       "width": 351
      },
      "needs_background": "light"
     },
     "output_type": "display_data"
    }
   ],
   "source": [
    "key = jax.random.PRNGKey(314)\n",
    "key_sample, key = jax.random.split(key)\n",
    "ixs = jax.random.choice(key, n_train, (4,))\n",
    "\n",
    "fig, axs = plt.subplots(2, 2, figsize=(5, 5))\n",
    "axs = axs.ravel()\n",
    "for ix, ax in zip(ixs, axs):\n",
    "    ax.imshow(Xf_train[ix].reshape(28, 28))\n",
    "    ax.axis(\"off\")\n",
    "plt.tight_layout()"
   ]
  },
  {
   "cell_type": "code",
   "execution_count": 73,
   "id": "0a2b8109-9560-4fd6-a41d-cdf2b3f8c000",
   "metadata": {},
   "outputs": [],
   "source": [
    "class Encoder(nn.Module):\n",
    "    \"\"\"\n",
    "    For the inference model p(z|x)\n",
    "    \"\"\"\n",
    "    # For the inference model p(z\\x)\n",
    "    latent_dim: int\n",
    "    \n",
    "    @nn.compact\n",
    "    def __call__(self, x):\n",
    "        z = nn.Dense(100)(x)\n",
    "        z = nn.relu(z)\n",
    "        z = nn.Dense(100)(z)\n",
    "        z = nn.relu(z)\n",
    "        mean_z = nn.Dense(self.latent_dim)(z)\n",
    "        logvar_z = nn.Dense(self.latent_dim)(z)\n",
    "        return mean_z, logvar_z\n",
    "    \n",
    "    \n",
    "class Decoder(nn.Module):\n",
    "    \"\"\"\n",
    "    For the generative model\n",
    "    p(x,z) = p(x|z) * p(z)\n",
    "    \"\"\"\n",
    "    observed_dim: int\n",
    "    \n",
    "    @nn.compact\n",
    "    def __call__(self, z):\n",
    "        x = nn.Dense(100)(z)\n",
    "        x = nn.relu(x)\n",
    "        x = nn.Dense(100)(x)\n",
    "        x = nn.relu(x)\n",
    "        mean_x = nn.Dense(self.observed_dim)(x)\n",
    "        logvar_x = nn.Dense(self.observed_dim)(x)\n",
    "        return mean_x, logvar_x\n",
    "\n",
    "\n",
    "class VAE(nn.Module):\n",
    "    latent_dim: int\n",
    "    observed_dim: int\n",
    "    \n",
    "    @staticmethod\n",
    "    def reparameterise(key, mean, logvar):\n",
    "        std = jnp.exp(logvar / 2)\n",
    "        eps = jax.random.normal(key, logvar.shape)\n",
    "        z = mean + eps * std\n",
    "        return z\n",
    "    \n",
    "    def setup(self):\n",
    "        # Called at .init\n",
    "        self.encoder = Encoder(self.latent_dim)\n",
    "        self.decoder = Decoder(self.observed_dim)\n",
    "    \n",
    "    def __call__(self, x, key_eps):\n",
    "        mean_z, logvar_z = self.encoder(x)\n",
    "        z = VAE.reparameterise(key_eps, mean_z, logvar_z)\n",
    "        mean_x, logvar_x = self.decoder(z)\n",
    "        return (mean_z, logvar_z), (mean_x, logvar_x)"
   ]
  },
  {
   "cell_type": "code",
   "execution_count": 89,
   "id": "5ca337ea-e969-4a47-8c04-b1a35a6c431c",
   "metadata": {},
   "outputs": [],
   "source": [
    "def get_batch_train_ixs(key, num_samples, batch_size):\n",
    "    \"\"\"\n",
    "    Obtain the training indices to be used in an epoch of\n",
    "    mini-batch optimisation.\n",
    "    \"\"\"\n",
    "    steps_per_epoch = num_samples // batch_size\n",
    "    \n",
    "    batch_ixs = jax.random.permutation(key, num_samples)\n",
    "    batch_ixs = batch_ixs[:steps_per_epoch * batch_size]\n",
    "    batch_ixs = batch_ixs.reshape(steps_per_epoch, batch_size)\n",
    "    \n",
    "    return batch_ixs\n",
    "\n",
    "\n",
    "def train_epoch(key, params, opt_step, X, y, sbatch_size, epoch):\n",
    "    num_samples = len(X)\n",
    "    batch_ixs = get_batch_train_ixs(key, num_samples, batch_size)\n",
    "    \n",
    "    for batch_ix in batch_ixs:\n",
    "        X_batch = X[batch_ix, ...]\n",
    "        y_batch = y[batch_ix, ...]\n",
    "        loss, params = train_step(params, opt_step, X_batch, y_batch)\n",
    "    \n",
    "    return params, opt_step"
   ]
  },
  {
   "cell_type": "code",
   "execution_count": 74,
   "id": "f9289d10-36a4-4ab7-9c95-16ae4c794058",
   "metadata": {},
   "outputs": [
    {
     "data": {
      "text/plain": [
       "DeviceArray([ 1.745846 , -1.3533316,  2.0788307], dtype=float32)"
      ]
     },
     "execution_count": 74,
     "metadata": {},
     "output_type": "execute_result"
    }
   ],
   "source": [
    "VAE.reparameterise(key, 0, jnp.array([1,2,3]))"
   ]
  },
  {
   "cell_type": "code",
   "execution_count": 87,
   "id": "87d759e6-092a-4eb9-8362-6026603b0f7e",
   "metadata": {},
   "outputs": [],
   "source": [
    "observed_dim = 28 ** 2\n",
    "latent_dim = 20\n",
    "batch_size = 200\n",
    "learning_rate = 1e-3\n",
    "batch_init = jnp.ones((batch_size, observed_dim))\n",
    "\n",
    "key_params_init, key_eps_init, key = jax.random.split(key, 3)\n",
    "model  = VAE(latent_dim, observed_dim)\n",
    "\n",
    "params_init = model.init(key_init, batch_init, key_eps_init)\n",
    "tx = optax.adam(learning_rate)\n",
    "\n",
    "state = train_state.TrainState.create(\n",
    "    apply_fn=model.apply,\n",
    "    params=params_init,\n",
    "    tx=tx\n",
    ")"
   ]
  },
  {
   "cell_type": "code",
   "execution_count": null,
   "id": "4c6c1ce0-ed8d-4083-810b-548372739001",
   "metadata": {},
   "outputs": [],
   "source": [
    "X"
   ]
  },
  {
   "cell_type": "code",
   "execution_count": 95,
   "id": "36b75db1-2fed-47cf-a3e4-0d11df4a740b",
   "metadata": {},
   "outputs": [
    {
     "ename": "ScopeParamShapeError",
     "evalue": "Inconsistent shapes between value and initializer for parameter \"kernel\" in \"/encoder/Dense_0\": (784, 100), (28, 100). (https://flax.readthedocs.io/en/latest/flax.errors.html#flax.errors.ScopeParamShapeError)",
     "output_type": "error",
     "traceback": [
      "\u001b[0;31m---------------------------------------------------------------------------\u001b[0m",
      "\u001b[0;31mScopeParamShapeError\u001b[0m                      Traceback (most recent call last)",
      "Input \u001b[0;32mIn [95]\u001b[0m, in \u001b[0;36m<cell line: 1>\u001b[0;34m()\u001b[0m\n\u001b[0;32m----> 1\u001b[0m \u001b[43mmodel\u001b[49m\u001b[38;5;241;43m.\u001b[39;49m\u001b[43mapply\u001b[49m\u001b[43m(\u001b[49m\u001b[43mparams_init\u001b[49m\u001b[43m,\u001b[49m\u001b[43m \u001b[49m\u001b[43mXf_train\u001b[49m\u001b[43m[\u001b[49m\u001b[43m:\u001b[49m\u001b[38;5;241;43m10\u001b[39;49m\u001b[43m]\u001b[49m\u001b[43m,\u001b[49m\u001b[43m \u001b[49m\u001b[43mkey\u001b[49m\u001b[43m)\u001b[49m\n",
      "    \u001b[0;31m[... skipping hidden 7 frame]\u001b[0m\n",
      "Input \u001b[0;32mIn [73]\u001b[0m, in \u001b[0;36mVAE.__call__\u001b[0;34m(self, x, key_eps)\u001b[0m\n\u001b[1;32m     53\u001b[0m \u001b[38;5;28;01mdef\u001b[39;00m \u001b[38;5;21m__call__\u001b[39m(\u001b[38;5;28mself\u001b[39m, x, key_eps):\n\u001b[0;32m---> 54\u001b[0m     mean_z, logvar_z \u001b[38;5;241m=\u001b[39m \u001b[38;5;28;43mself\u001b[39;49m\u001b[38;5;241;43m.\u001b[39;49m\u001b[43mencoder\u001b[49m\u001b[43m(\u001b[49m\u001b[43mx\u001b[49m\u001b[43m)\u001b[49m\n\u001b[1;32m     55\u001b[0m     z \u001b[38;5;241m=\u001b[39m VAE\u001b[38;5;241m.\u001b[39mreparameterise(key_eps, mean_z, logvar_z)\n\u001b[1;32m     56\u001b[0m     mean_x, logvar_x \u001b[38;5;241m=\u001b[39m \u001b[38;5;28mself\u001b[39m\u001b[38;5;241m.\u001b[39mdecoder(z)\n",
      "    \u001b[0;31m[... skipping hidden 3 frame]\u001b[0m\n",
      "Input \u001b[0;32mIn [73]\u001b[0m, in \u001b[0;36mEncoder.__call__\u001b[0;34m(self, x)\u001b[0m\n\u001b[1;32m      8\u001b[0m \u001b[38;5;129m@nn\u001b[39m\u001b[38;5;241m.\u001b[39mcompact\n\u001b[1;32m      9\u001b[0m \u001b[38;5;28;01mdef\u001b[39;00m \u001b[38;5;21m__call__\u001b[39m(\u001b[38;5;28mself\u001b[39m, x):\n\u001b[0;32m---> 10\u001b[0m     z \u001b[38;5;241m=\u001b[39m \u001b[43mnn\u001b[49m\u001b[38;5;241;43m.\u001b[39;49m\u001b[43mDense\u001b[49m\u001b[43m(\u001b[49m\u001b[38;5;241;43m100\u001b[39;49m\u001b[43m)\u001b[49m\u001b[43m(\u001b[49m\u001b[43mx\u001b[49m\u001b[43m)\u001b[49m\n\u001b[1;32m     11\u001b[0m     z \u001b[38;5;241m=\u001b[39m nn\u001b[38;5;241m.\u001b[39mrelu(z)\n\u001b[1;32m     12\u001b[0m     z \u001b[38;5;241m=\u001b[39m nn\u001b[38;5;241m.\u001b[39mDense(\u001b[38;5;241m100\u001b[39m)(z)\n",
      "    \u001b[0;31m[... skipping hidden 3 frame]\u001b[0m\n",
      "File \u001b[0;32m~/miniconda3/lib/python3.9/site-packages/flax/linen/linear.py:183\u001b[0m, in \u001b[0;36mDense.__call__\u001b[0;34m(self, inputs)\u001b[0m\n\u001b[1;32m    174\u001b[0m \u001b[38;5;124;03m\"\"\"Applies a linear transformation to the inputs along the last dimension.\u001b[39;00m\n\u001b[1;32m    175\u001b[0m \n\u001b[1;32m    176\u001b[0m \u001b[38;5;124;03mArgs:\u001b[39;00m\n\u001b[0;32m   (...)\u001b[0m\n\u001b[1;32m    180\u001b[0m \u001b[38;5;124;03m  The transformed input.\u001b[39;00m\n\u001b[1;32m    181\u001b[0m \u001b[38;5;124;03m\"\"\"\u001b[39;00m\n\u001b[1;32m    182\u001b[0m inputs \u001b[38;5;241m=\u001b[39m jnp\u001b[38;5;241m.\u001b[39masarray(inputs, \u001b[38;5;28mself\u001b[39m\u001b[38;5;241m.\u001b[39mdtype)\n\u001b[0;32m--> 183\u001b[0m kernel \u001b[38;5;241m=\u001b[39m \u001b[38;5;28;43mself\u001b[39;49m\u001b[38;5;241;43m.\u001b[39;49m\u001b[43mparam\u001b[49m\u001b[43m(\u001b[49m\u001b[38;5;124;43m'\u001b[39;49m\u001b[38;5;124;43mkernel\u001b[39;49m\u001b[38;5;124;43m'\u001b[39;49m\u001b[43m,\u001b[49m\n\u001b[1;32m    184\u001b[0m \u001b[43m                    \u001b[49m\u001b[38;5;28;43mself\u001b[39;49m\u001b[38;5;241;43m.\u001b[39;49m\u001b[43mkernel_init\u001b[49m\u001b[43m,\u001b[49m\n\u001b[1;32m    185\u001b[0m \u001b[43m                    \u001b[49m\u001b[43m(\u001b[49m\u001b[43minputs\u001b[49m\u001b[38;5;241;43m.\u001b[39;49m\u001b[43mshape\u001b[49m\u001b[43m[\u001b[49m\u001b[38;5;241;43m-\u001b[39;49m\u001b[38;5;241;43m1\u001b[39;49m\u001b[43m]\u001b[49m\u001b[43m,\u001b[49m\u001b[43m \u001b[49m\u001b[38;5;28;43mself\u001b[39;49m\u001b[38;5;241;43m.\u001b[39;49m\u001b[43mfeatures\u001b[49m\u001b[43m)\u001b[49m\u001b[43m,\u001b[49m\n\u001b[1;32m    186\u001b[0m \u001b[43m                    \u001b[49m\u001b[38;5;28;43mself\u001b[39;49m\u001b[38;5;241;43m.\u001b[39;49m\u001b[43mparam_dtype\u001b[49m\u001b[43m)\u001b[49m\n\u001b[1;32m    187\u001b[0m kernel \u001b[38;5;241m=\u001b[39m jnp\u001b[38;5;241m.\u001b[39masarray(kernel, \u001b[38;5;28mself\u001b[39m\u001b[38;5;241m.\u001b[39mdtype)\n\u001b[1;32m    188\u001b[0m y \u001b[38;5;241m=\u001b[39m lax\u001b[38;5;241m.\u001b[39mdot_general(inputs, kernel,\n\u001b[1;32m    189\u001b[0m                     (((inputs\u001b[38;5;241m.\u001b[39mndim \u001b[38;5;241m-\u001b[39m \u001b[38;5;241m1\u001b[39m,), (\u001b[38;5;241m0\u001b[39m,)), ((), ())),\n\u001b[1;32m    190\u001b[0m                     precision\u001b[38;5;241m=\u001b[39m\u001b[38;5;28mself\u001b[39m\u001b[38;5;241m.\u001b[39mprecision)\n",
      "    \u001b[0;31m[... skipping hidden 1 frame]\u001b[0m\n",
      "File \u001b[0;32m~/miniconda3/lib/python3.9/site-packages/flax/core/scope.py:730\u001b[0m, in \u001b[0;36mScope.param\u001b[0;34m(self, name, init_fn, *init_args)\u001b[0m\n\u001b[1;32m    725\u001b[0m   \u001b[38;5;28;01mfor\u001b[39;00m val, abs_val \u001b[38;5;129;01min\u001b[39;00m \u001b[38;5;28mzip\u001b[39m(value_flat, abs_value_flat):\n\u001b[1;32m    726\u001b[0m     \u001b[38;5;66;03m# NOTE: We could check dtype consistency here as well but it's\u001b[39;00m\n\u001b[1;32m    727\u001b[0m     \u001b[38;5;66;03m# usefuleness is less obvious. We might intentionally change the dtype\u001b[39;00m\n\u001b[1;32m    728\u001b[0m     \u001b[38;5;66;03m# for inference to a half float type for example.\u001b[39;00m\n\u001b[1;32m    729\u001b[0m     \u001b[38;5;28;01mif\u001b[39;00m jnp\u001b[38;5;241m.\u001b[39mshape(val) \u001b[38;5;241m!=\u001b[39m jnp\u001b[38;5;241m.\u001b[39mshape(abs_val):\n\u001b[0;32m--> 730\u001b[0m       \u001b[38;5;28;01mraise\u001b[39;00m errors\u001b[38;5;241m.\u001b[39mScopeParamShapeError(name, \u001b[38;5;28mself\u001b[39m\u001b[38;5;241m.\u001b[39mpath_text,\n\u001b[1;32m    731\u001b[0m           jnp\u001b[38;5;241m.\u001b[39mshape(val), jnp\u001b[38;5;241m.\u001b[39mshape(abs_val))\n\u001b[1;32m    732\u001b[0m \u001b[38;5;28;01melse\u001b[39;00m:\n\u001b[1;32m    733\u001b[0m   \u001b[38;5;28;01mif\u001b[39;00m \u001b[38;5;129;01mnot\u001b[39;00m \u001b[38;5;28mself\u001b[39m\u001b[38;5;241m.\u001b[39mis_mutable_collection(\u001b[38;5;124m'\u001b[39m\u001b[38;5;124mparams\u001b[39m\u001b[38;5;124m'\u001b[39m):\n",
      "\u001b[0;31mScopeParamShapeError\u001b[0m: Inconsistent shapes between value and initializer for parameter \"kernel\" in \"/encoder/Dense_0\": (784, 100), (28, 100). (https://flax.readthedocs.io/en/latest/flax.errors.html#flax.errors.ScopeParamShapeError)"
     ]
    }
   ],
   "source": [
    "model.apply(params_init, Xf_train[:10], key)"
   ]
  },
  {
   "cell_type": "code",
   "execution_count": 40,
   "id": "79349fea-43a0-4e04-aeee-6f8cfb6b0d82",
   "metadata": {},
   "outputs": [],
   "source": [
    "def sgvb_estimator(params):\n",
    "    \"\"\"\n",
    "    ** Loss function **\n",
    "    Stochastic Gradient Variational Bayes (SGVB)\n",
    "    estimator.\n",
    "    \"\"\"\n",
    "    ..."
   ]
  }
 ],
 "metadata": {
  "kernelspec": {
   "display_name": "Python 3 (ipykernel)",
   "language": "python",
   "name": "python3"
  },
  "language_info": {
   "codemirror_mode": {
    "name": "ipython",
    "version": 3
   },
   "file_extension": ".py",
   "mimetype": "text/x-python",
   "name": "python",
   "nbconvert_exporter": "python",
   "pygments_lexer": "ipython3",
   "version": "3.9.7"
  }
 },
 "nbformat": 4,
 "nbformat_minor": 5
}
