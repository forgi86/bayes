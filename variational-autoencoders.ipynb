{
 "cells": [
  {
   "cell_type": "markdown",
   "id": "b9b39933-1298-47d0-a141-dd40061e29e9",
   "metadata": {},
   "source": [
    "# Variational Autoencoders (VAE)\n",
    "\n",
    "Based on [`vae/train.py`](https://github.com/google/flax/blob/main/examples/vae/train.py) Flax example. \n",
    "\n",
    "Stochastic gradient variational Bayes (SGVB). VLB Monte Carlo estimate\n",
    "\n",
    "$$\n",
    "\\begin{aligned}\n",
    "    \\hat{\\mathcal{L}}(\\boldsymbol\\theta, \\boldsymbol\\phi; {\\bf X}) &= \\sum_{n=1}^N \\log p_{\\theta_x}({\\bf x}_n \\vert \\hat{\\bf z}_n) + \\log p_{\\theta_z}(\\hat{\\bf z}_n) - \\log p(\\hat{\\boldsymbol\\varepsilon}_n) + \\log d_\\phi(\\hat{\\boldsymbol\\varepsilon}_n, {\\bf x}_n)\\\\\n",
    "    &= \\sum_{n=1}^N \\log\\mathcal{N}\\left({\\bf x}_n \\vert \\mu_{\\theta_x}\\left(\\hat{\\bf z}\\right), {\\bf I}\\sigma^2_{\\theta_x}\\left(\\hat{\\bf z}\\right)\\right) + \\sum_{l=1}^L \\log\\sigma_\\phi^2({\\bf x}_n)\n",
    "\\end{aligned}\n",
    "$$"
   ]
  },
  {
   "cell_type": "code",
   "execution_count": 2,
   "id": "21be8924-ef86-4f79-aa97-cbda21544885",
   "metadata": {},
   "outputs": [],
   "source": [
    "import jax\n",
    "import optax\n",
    "import distrax\n",
    "import jax.numpy as jnp\n",
    "import flax.linen as nn\n",
    "import matplotlib.pyplot as plt\n",
    "from tqdm.notebook import tqdm\n",
    "from functools import partial\n",
    "from flax.training import train_state"
   ]
  },
  {
   "cell_type": "code",
   "execution_count": 3,
   "id": "f8e74bf9-cccc-4748-9c48-9e073e7a98d4",
   "metadata": {},
   "outputs": [],
   "source": [
    "%config InlineBackend.figure_format = \"retina\""
   ]
  },
  {
   "cell_type": "code",
   "execution_count": null,
   "id": "6698f570-783c-40d6-983f-f21b517168da",
   "metadata": {},
   "outputs": [],
   "source": [
    "from torchvision.datasets import MNIST\n",
    "\n",
    "root = \"/tmp/mnist\"\n",
    "mnist_train = MNIST(root, download=True, train=True)\n",
    "mnist_test = MNIST(root, download=True, train=False)"
   ]
  },
  {
   "cell_type": "code",
   "execution_count": 5,
   "id": "9739125c-6c42-4226-87d1-0d41effae08d",
   "metadata": {},
   "outputs": [],
   "source": [
    "X_train = jnp.array(mnist_train.data)\n",
    "n_train, *_ = X_train.shape\n",
    "# \"Gaussanised\" MNIST\n",
    "Xf_train = X_train.reshape(-1, 28 ** 2)\n",
    "Xf_train = Xf_train / Xf_train.max()\n",
    "Xf_train = (Xf_train - Xf_train.mean()) / Xf_train.std()"
   ]
  },
  {
   "cell_type": "code",
   "execution_count": 6,
   "id": "a8aa33ef-2672-4ed5-abe2-e9cb0ff4fd5c",
   "metadata": {},
   "outputs": [
    {
     "data": {
      "image/png": "[encoded data removed]",
      "text/plain": [
       "<Figure size 360x360 with 4 Axes>"
      ]
     },
     "metadata": {
      "image/png": {
       "height": 352,
       "width": 351
      },
      "needs_background": "light"
     },
     "output_type": "display_data"
    }
   ],
   "source": [
    "key = jax.random.PRNGKey(314)\n",
    "key_sample, key = jax.random.split(key)\n",
    "ixs = jax.random.choice(key, n_train, (4,))\n",
    "\n",
    "fig, axs = plt.subplots(2, 2, figsize=(5, 5))\n",
    "axs = axs.ravel()\n",
    "for ix, ax in zip(ixs, axs):\n",
    "    ax.imshow(Xf_train[ix].reshape(28, 28))\n",
    "    ax.axis(\"off\")\n",
    "plt.tight_layout()"
   ]
  },
  {
   "cell_type": "code",
   "execution_count": 7,
   "id": "0a2b8109-9560-4fd6-a41d-cdf2b3f8c000",
   "metadata": {},
   "outputs": [],
   "source": [
    "class Encoder(nn.Module):\n",
    "    \"\"\"\n",
    "    For the inference model p(z|x)\n",
    "    \"\"\"\n",
    "    # For the inference model p(z\\x)\n",
    "    latent_dim: int\n",
    "    \n",
    "    @nn.compact\n",
    "    def __call__(self, x):\n",
    "        z = nn.Dense(100)(x)\n",
    "        z = nn.relu(z)\n",
    "        z = nn.Dense(100)(z)\n",
    "        z = nn.relu(z)\n",
    "        z = nn.Dense(100)(z)\n",
    "        z = nn.relu(z)\n",
    "        mean_z = nn.Dense(self.latent_dim)(z)\n",
    "        logvar_z = nn.Dense(self.latent_dim)(z)\n",
    "        return mean_z, logvar_z\n",
    "    \n",
    "    \n",
    "class Decoder(nn.Module):\n",
    "    \"\"\"\n",
    "    For the generative model\n",
    "    p(x,z) = p(x|z) * p(z)\n",
    "    \"\"\"\n",
    "    observed_dim: int\n",
    "    \n",
    "    @nn.compact\n",
    "    def __call__(self, z):\n",
    "        x = nn.Dense(100)(z)\n",
    "        x = nn.relu(x)\n",
    "        x = nn.Dense(100)(x)\n",
    "        x = nn.relu(x)\n",
    "        z = nn.Dense(100)(z)\n",
    "        z = nn.relu(z)\n",
    "        mean_x = nn.Dense(self.observed_dim)(x)\n",
    "        logvar_x = nn.Dense(self.observed_dim)(x)\n",
    "        return mean_x, logvar_x\n",
    "\n",
    "\n",
    "class VAE(nn.Module):\n",
    "    latent_dim: int\n",
    "    observed_dim: int\n",
    "    \n",
    "    @staticmethod\n",
    "    def reparameterise(key, mean, logvar):\n",
    "        std = jnp.exp(logvar / 2)\n",
    "        eps = jax.random.normal(key, logvar.shape)\n",
    "        z = mean + eps * std\n",
    "        return z\n",
    "    \n",
    "    def setup(self):\n",
    "        self.encoder = Encoder(self.latent_dim)\n",
    "        self.decoder = Decoder(self.observed_dim)\n",
    "    \n",
    "    def __call__(self, x, key_eps):\n",
    "        mean_z, logvar_z = self.encoder(x)\n",
    "        z = VAE.reparameterise(key_eps, mean_z, logvar_z)\n",
    "        mean_x, logvar_x = self.decoder(z)\n",
    "        return (mean_z, logvar_z), (mean_x, logvar_x)"
   ]
  },
  {
   "cell_type": "code",
   "execution_count": 8,
   "id": "756c57de-e4af-4940-8a11-4daebd2650cf",
   "metadata": {
    "tags": []
   },
   "outputs": [],
   "source": [
    "def sgvb(params, model, X_batch, key):\n",
    "    \"\"\"\n",
    "    Loss function\n",
    "    -------------\n",
    "    \n",
    "    Stochastic Gradient Variational Bayes (SGVB)\n",
    "    estimator.\n",
    "    \"\"\"\n",
    "    batch_size = len(X_batch)\n",
    "    keys = jax.random.split(key, batch_size)\n",
    "    encode_decode = jax.vmap(model.apply, (None, 0, 0))\n",
    "    encode_decode = encode_decode(params, X_batch, keys)\n",
    "    (mean_z, logvar_z), (mean_x, logvar_x) = encode_decode\n",
    "    \n",
    "    kl = (logvar_z + (1 + mean_z ** 2) / jnp.exp(logvar_z) - 1) / 2\n",
    "    \n",
    "    std_x = jnp.exp(logvar_x / 2)\n",
    "    probx = distrax.Normal(mean_x, std_x)\n",
    "    log_probs_x = probx.log_prob(X_batch)\n",
    "    \n",
    "    elbo_est = log_probs_x.sum(axis=-1) - kl.sum(axis=-1)\n",
    "    return -elbo_est.mean()\n",
    "\n",
    "\n",
    "def get_batch_train_ixs(key, num_samples, batch_size):\n",
    "    \"\"\"\n",
    "    Obtain the training indices to be used in an epoch of\n",
    "    mini-batch optimisation.\n",
    "    \"\"\"\n",
    "    steps_per_epoch = num_samples // batch_size\n",
    "    \n",
    "    batch_ixs = jax.random.permutation(key, num_samples)\n",
    "    batch_ixs = batch_ixs[:steps_per_epoch * batch_size]\n",
    "    batch_ixs = batch_ixs.reshape(steps_per_epoch, batch_size)\n",
    "    \n",
    "    return batch_ixs\n",
    "\n",
    "\n",
    "@jax.jit\n",
    "def train_step(state, X_batch, key):\n",
    "    loss_fn = partial(sgvb,\n",
    "                      model=model, X_batch=X_batch, key=key)\n",
    "    loss, grads = jax.value_and_grad(loss_fn)(state.params)\n",
    "    new_state = state.apply_gradients(grads=grads)\n",
    "    return loss, new_state\n",
    "\n",
    "\n",
    "def train_epoch(key, state, X, batch_size, epoch):\n",
    "    num_samples = len(X)\n",
    "    key_batch, keys_vae = jax.random.split(key)\n",
    "    batch_ixs = get_batch_train_ixs(key_batch, num_samples, batch_size)\n",
    "    \n",
    "    num_batches = len(batch_ixs)\n",
    "    keys_vae = jax.random.split(keys_vae, num_batches)\n",
    "    \n",
    "    total_loss = 0\n",
    "    for key_vae, batch_ix in zip(keys_vae, batch_ixs):\n",
    "        X_batch = X[batch_ix, ...]\n",
    "        loss, state = train_step(state, X_batch, key_vae)\n",
    "        total_loss += loss\n",
    "    \n",
    "    return total_loss.item(), state"
   ]
  },
  {
   "cell_type": "code",
   "execution_count": 9,
   "id": "caa264ce-8e39-491d-a1a0-96670ea7613a",
   "metadata": {},
   "outputs": [],
   "source": [
    "observed_dim = 28 ** 2\n",
    "latent_dim = 100\n",
    "batch_size = 1000\n",
    "learning_rate = 5e-5\n",
    "batch_init = jnp.ones((batch_size, observed_dim))\n",
    "\n",
    "key_params_init, key_eps_init, key_train, key = jax.random.split(key, 4)\n",
    "model  = VAE(latent_dim, observed_dim)\n",
    "\n",
    "params_init = model.init(key_params_init, batch_init, key_eps_init)\n",
    "tx = optax.adam(learning_rate)\n",
    "\n",
    "state = train_state.TrainState.create(\n",
    "    apply_fn=model.apply,\n",
    "    params=params_init,\n",
    "    tx=tx\n",
    ")"
   ]
  },
  {
   "cell_type": "code",
   "execution_count": 16,
   "id": "e092bb19-c04d-4641-bd4e-d3a68b33dab5",
   "metadata": {},
   "outputs": [
    {
     "data": {
      "application/vnd.jupyter.widget-view+json": {
       "model_id": "21cb044fda0041a980d316751cb67bf5",
       "version_major": 2,
       "version_minor": 0
      },
      "text/plain": [
       "  0%|          | 0/5000 [00:00<?, ?it/s]"
      ]
     },
     "metadata": {},
     "output_type": "display_data"
    }
   ],
   "source": [
    "n_epochs = 8000\n",
    "keys_train = jax.random.split(key_train, n_epochs)\n",
    "\n",
    "# loss_hist = []\n",
    "for e, key_train in (pbar := tqdm(enumerate(keys_train), total=len(keys_train))):\n",
    "    loss, state = train_epoch(key_train, state, Xf_train, batch_size, e)\n",
    "    pbar.set_description(f\"{loss=:0.4e}\")\n",
    "    loss_hist.append(loss)"
   ]
  },
  {
   "cell_type": "code",
   "execution_count": 17,
   "id": "cb3d27c0-df74-4b8a-92bb-b2e2ae188637",
   "metadata": {},
   "outputs": [
    {
     "data": {
      "text/plain": [
       "[<matplotlib.lines.Line2D at 0x7f84ea0793d0>]"
      ]
     },
     "execution_count": 17,
     "metadata": {},
     "output_type": "execute_result"
    },
    {
     "data": {
      "image/png": "[encoded data removed]",
      "text/plain": [
       "<Figure size 432x288 with 1 Axes>"
      ]
     },
     "metadata": {
      "image/png": {
       "height": 248,
       "width": 402
      },
      "needs_background": "light"
     },
     "output_type": "display_data"
    }
   ],
   "source": [
    "params_final = state.params\n",
    "plt.plot(loss_hist)"
   ]
  },
  {
   "cell_type": "code",
   "execution_count": 12,
   "id": "eb84bb0c-e78d-4365-90ed-4c247745ec1f",
   "metadata": {},
   "outputs": [],
   "source": [
    "key_sample_params, key_sample_val, key = jax.random.split(key, 3)"
   ]
  },
  {
   "cell_type": "code",
   "execution_count": 21,
   "id": "100713d5-fb63-4273-bd3f-8fa00fd59bbf",
   "metadata": {},
   "outputs": [
    {
     "data": {
      "image/png": "[encoded data removed]",
      "text/plain": [
       "<Figure size 864x288 with 16 Axes>"
      ]
     },
     "metadata": {
      "image/png": {
       "height": 235,
       "width": 856
      },
      "needs_background": "light"
     },
     "output_type": "display_data"
    }
   ],
   "source": [
    "num_samples = 8\n",
    "num_obs, _ = Xf_train.shape\n",
    "\n",
    "ix_tests = jax.random.choice(key, num_obs, (num_samples,))\n",
    "\n",
    "key_sample_params_ixs = jax.random.split(key_sample_params, num_samples)\n",
    "fig, axs = plt.subplots(2, num_samples, figsize=(12, 4))\n",
    "\n",
    "\n",
    "for ix, key_params, ax in zip(ix_tests, key_sample_params_ixs, axs.T):\n",
    "    img_test = Xf_train[ix]\n",
    "    _, (mean_rec, logvar_rec) = model.apply(params_final, img_test, key_params)\n",
    "    ax[0].imshow(img_test.reshape(28, 28))\n",
    "    ax[1].imshow(mean_rec.reshape(28, 28))\n",
    "    ax[0].axis(\"off\")\n",
    "    ax[1].axis(\"off\")\n",
    "plt.tight_layout()"
   ]
  }
 ],
 "metadata": {
  "kernelspec": {
   "display_name": "Python 3 (ipykernel)",
   "language": "python",
   "name": "python3"
  },
  "language_info": {
   "codemirror_mode": {
    "name": "ipython",
    "version": 3
   },
   "file_extension": ".py",
   "mimetype": "text/x-python",
   "name": "python",
   "nbconvert_exporter": "python",
   "pygments_lexer": "ipython3",
   "version": "3.9.7"
  }
 },
 "nbformat": 4,
 "nbformat_minor": 5
}
