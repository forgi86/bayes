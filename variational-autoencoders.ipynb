{
 "cells": [
  {
   "cell_type": "markdown",
   "id": "b9b39933-1298-47d0-a141-dd40061e29e9",
   "metadata": {},
   "source": [
    "# Variational Autoencoders (VAE)\n",
    "\n",
    "Based on [`vae/train.py`](https://github.com/google/flax/blob/main/examples/vae/train.py) Flax example. \n",
    "\n",
    "Stochastic gradient variational Bayes (SGVB). VLB Monte Carlo estimate\n",
    "\n",
    "$$\n",
    "\\begin{aligned}\n",
    "    \\hat{\\mathcal{L}}(\\boldsymbol\\theta, \\boldsymbol\\phi; {\\bf X}) &= \\sum_{n=1}^N \\log p_{\\theta_x}({\\bf x}_n \\vert \\hat{\\bf z}_n) + \\log p_{\\theta_z}(\\hat{\\bf z}_n) - \\log p(\\hat{\\boldsymbol\\varepsilon}_n) + \\log d_\\phi(\\hat{\\boldsymbol\\varepsilon}_n, {\\bf x}_n)\\\\\n",
    "    &= \\sum_{n=1}^N \\log\\mathcal{N}\\left({\\bf x}_n \\vert \\mu_{\\theta_x}\\left(\\hat{\\bf z}\\right), {\\bf I}\\sigma^2_{\\theta_x}\\left(\\hat{\\bf z}\\right)\\right) + \\sum_{l=1}^L \\log\\sigma_\\phi^2({\\bf x}_n)\n",
    "\\end{aligned}\n",
    "$$"
   ]
  },
  {
   "cell_type": "code",
   "execution_count": 788,
   "id": "21be8924-ef86-4f79-aa97-cbda21544885",
   "metadata": {},
   "outputs": [],
   "source": [
    "import jax\n",
    "import optax\n",
    "import distrax\n",
    "import jax.numpy as jnp\n",
    "import flax.linen as nn\n",
    "import matplotlib.pyplot as plt\n",
    "from tqdm.notebook import tqdm\n",
    "from functools import partial\n",
    "from flax.training import train_state"
   ]
  },
  {
   "cell_type": "code",
   "execution_count": 759,
   "id": "f8e74bf9-cccc-4748-9c48-9e073e7a98d4",
   "metadata": {},
   "outputs": [],
   "source": [
    "%config InlineBackend.figure_format = \"retina\""
   ]
  },
  {
   "cell_type": "code",
   "execution_count": 760,
   "id": "13369b18-37b6-4b8d-a382-1541ce3a2fc2",
   "metadata": {},
   "outputs": [],
   "source": [
    "# Taken from jax's website\n",
    "# https://jax.readthedocs.io/en/latest/notebooks/Neural_Network_and_Data_Loading.html\n",
    "from torchvision.datasets import MNIST\n",
    "\n",
    "\n",
    "class FlattenAndCast(object):\n",
    "  def __call__(self, pic):\n",
    "    return np.ravel(np.array(pic, dtype=jnp.float32))\n",
    "\n",
    "root = \"/tmp/mnist\"\n",
    "mnist_train = MNIST(root, download=True, train=True)\n",
    "mnist_test = MNIST(root, download=True, train=False)"
   ]
  },
  {
   "cell_type": "code",
   "execution_count": 761,
   "id": "9739125c-6c42-4226-87d1-0d41effae08d",
   "metadata": {},
   "outputs": [],
   "source": [
    "X_train = jnp.array(mnist_train.data)\n",
    "n_train, *_ = X_train.shape\n",
    "# \"Gaussanised\" MNIST\n",
    "Xf_train = X_train.reshape(-1, 28 ** 2)\n",
    "Xf_train = Xf_train / Xf_train.max()\n",
    "Xf_train = (Xf_train - Xf_train.mean()) / Xf_train.std()"
   ]
  },
  {
   "cell_type": "code",
   "execution_count": 762,
   "id": "a8aa33ef-2672-4ed5-abe2-e9cb0ff4fd5c",
   "metadata": {},
   "outputs": [
    {
     "data": {
      "image/png": "[encoded data removed]",
      "text/plain": [
       "<Figure size 360x360 with 4 Axes>"
      ]
     },
     "metadata": {
      "image/png": {
       "height": 352,
       "width": 351
      },
      "needs_background": "light"
     },
     "output_type": "display_data"
    }
   ],
   "source": [
    "key = jax.random.PRNGKey(314)\n",
    "key_sample, key = jax.random.split(key)\n",
    "ixs = jax.random.choice(key, n_train, (4,))\n",
    "\n",
    "fig, axs = plt.subplots(2, 2, figsize=(5, 5))\n",
    "axs = axs.ravel()\n",
    "for ix, ax in zip(ixs, axs):\n",
    "    ax.imshow(Xf_train[ix].reshape(28, 28))\n",
    "    ax.axis(\"off\")\n",
    "plt.tight_layout()"
   ]
  },
  {
   "cell_type": "code",
   "execution_count": 763,
   "id": "0a2b8109-9560-4fd6-a41d-cdf2b3f8c000",
   "metadata": {},
   "outputs": [],
   "source": [
    "class Encoder(nn.Module):\n",
    "    \"\"\"\n",
    "    For the inference model p(z|x)\n",
    "    \"\"\"\n",
    "    # For the inference model p(z\\x)\n",
    "    latent_dim: int\n",
    "    \n",
    "    @nn.compact\n",
    "    def __call__(self, x):\n",
    "        z = nn.Dense(100)(x)\n",
    "        z = nn.relu(z)\n",
    "        z = nn.Dense(100)(z)\n",
    "        z = nn.relu(z)\n",
    "        mean_z = nn.Dense(self.latent_dim)(z)\n",
    "        logvar_z = nn.Dense(self.latent_dim)(z)\n",
    "        return mean_z, logvar_z\n",
    "    \n",
    "    \n",
    "class Decoder(nn.Module):\n",
    "    \"\"\"\n",
    "    For the generative model\n",
    "    p(x,z) = p(x|z) * p(z)\n",
    "    \"\"\"\n",
    "    observed_dim: int\n",
    "    \n",
    "    @nn.compact\n",
    "    def __call__(self, z):\n",
    "        x = nn.Dense(100)(z)\n",
    "        x = nn.relu(x)\n",
    "        x = nn.Dense(100)(x)\n",
    "        x = nn.relu(x)\n",
    "        mean_x = nn.Dense(self.observed_dim)(x)\n",
    "        logvar_x = nn.Dense(self.observed_dim)(x)\n",
    "        return mean_x, logvar_x\n",
    "\n",
    "\n",
    "class VAE(nn.Module):\n",
    "    latent_dim: int\n",
    "    observed_dim: int\n",
    "    \n",
    "    @staticmethod\n",
    "    def reparameterise(key, mean, logvar):\n",
    "        std = jnp.exp(logvar / 2)\n",
    "        eps = jax.random.normal(key, logvar.shape)\n",
    "        z = mean + eps * std\n",
    "        return z\n",
    "    \n",
    "    def setup(self):\n",
    "        self.encoder = Encoder(self.latent_dim)\n",
    "        self.decoder = Decoder(self.observed_dim)\n",
    "    \n",
    "    def __call__(self, x, key_eps):\n",
    "        mean_z, logvar_z = self.encoder(x)\n",
    "        z = VAE.reparameterise(key_eps, mean_z, logvar_z)\n",
    "        mean_x, logvar_x = self.decoder(z)\n",
    "        return (mean_z, logvar_z), (mean_x, logvar_x)"
   ]
  },
  {
   "cell_type": "code",
   "execution_count": 829,
   "id": "756c57de-e4af-4940-8a11-4daebd2650cf",
   "metadata": {},
   "outputs": [],
   "source": [
    "def sgvb(params, model, X_batch, key):\n",
    "    \"\"\"\n",
    "    Loss function\n",
    "    -------------\n",
    "    \n",
    "    Stochastic Gradient Variational Bayes (SGVB)\n",
    "    estimator.\n",
    "    \"\"\"\n",
    "    encode_decode = model.apply(params, X_batch, key)\n",
    "    (mean_z, logvar_z), (mean_x, logvar_x) = encode_decode\n",
    "    \n",
    "    probx = distrax.Normal(mean_x, jnp.exp(logvar_x / 2))\n",
    "    \n",
    "    log_probs_x = probx.log_prob(X_batch).sum(axis=-1)\n",
    "    elbo_est = log_probs_x + logvar_z.sum()\n",
    "    return -elbo_est.sum()\n",
    "\n",
    "\n",
    "def get_batch_train_ixs(key, num_samples, batch_size):\n",
    "    \"\"\"\n",
    "    Obtain the training indices to be used in an epoch of\n",
    "    mini-batch optimisation.\n",
    "    \"\"\"\n",
    "    steps_per_epoch = num_samples // batch_size\n",
    "    \n",
    "    batch_ixs = jax.random.permutation(key, num_samples)\n",
    "    batch_ixs = batch_ixs[:steps_per_epoch * batch_size]\n",
    "    batch_ixs = batch_ixs.reshape(steps_per_epoch, batch_size)\n",
    "    \n",
    "    return batch_ixs\n",
    "\n",
    "\n",
    "@jax.jit\n",
    "def train_step(state, X_batch, key):\n",
    "    loss_fn = partial(sgvb,\n",
    "                      model=model, X_batch=X_batch, key=key)\n",
    "    loss, grads = jax.value_and_grad(loss_fn)(state.params)\n",
    "    new_state = state.apply_gradients(grads=grads)\n",
    "    return loss, new_state\n",
    "\n",
    "\n",
    "def train_epoch(key, state, X, batch_size, epoch):\n",
    "    num_samples = len(X)\n",
    "    key_batch, key_vae = jax.random.split(key)\n",
    "    batch_ixs = get_batch_train_ixs(key_batch, num_samples, batch_size)\n",
    "    num_batches = len(batch_ixs)\n",
    "    keys_vae = jax.random.split(key_vae, num_batches)\n",
    "    \n",
    "    total_loss = 0\n",
    "    for key_vae, batch_ix in zip(keys_vae, batch_ixs):\n",
    "        X_batch = X[batch_ix, ...]\n",
    "        loss, state = train_step(state, X_batch, key_vae)\n",
    "        total_loss += loss\n",
    "    \n",
    "    return total_loss.item(), state"
   ]
  },
  {
   "cell_type": "code",
   "execution_count": 838,
   "id": "caa264ce-8e39-491d-a1a0-96670ea7613a",
   "metadata": {},
   "outputs": [],
   "source": [
    "observed_dim = 28 ** 2\n",
    "latent_dim = 20\n",
    "batch_size = 1000\n",
    "learning_rate = 1e-6\n",
    "batch_init = jnp.ones((batch_size, observed_dim))\n",
    "\n",
    "key_params_init, key_eps_init, key_train, key = jax.random.split(key, 4)\n",
    "model  = VAE(latent_dim, observed_dim)\n",
    "\n",
    "params_init = model.init(key_params_init, batch_init, key_eps_init)\n",
    "tx = optax.adam(learning_rate)\n",
    "\n",
    "state = train_state.TrainState.create(\n",
    "    apply_fn=model.apply,\n",
    "    params=params_init,\n",
    "    tx=tx\n",
    ")"
   ]
  },
  {
   "cell_type": "code",
   "execution_count": 839,
   "id": "a74d57b7-b872-44c1-b016-d9218d80627d",
   "metadata": {},
   "outputs": [
    {
     "data": {
      "application/vnd.jupyter.widget-view+json": {
       "model_id": "4d2a1749640b47eea8c1171d7a6c7d48",
       "version_major": 2,
       "version_minor": 0
      },
      "text/plain": [
       "  0%|          | 0/200 [00:00<?, ?it/s]"
      ]
     },
     "metadata": {},
     "output_type": "display_data"
    }
   ],
   "source": [
    "n_epochs = 200\n",
    "keys_train = jax.random.split(key_train, n_epochs)\n",
    "\n",
    "loss_hist = []\n",
    "for e, key_train in tqdm(enumerate(keys_train), total=len(keys_train)):\n",
    "    loss, state = train_epoch(key_train, state, Xf_train, batch_size, e)\n",
    "    loss_hist.append(loss)"
   ]
  },
  {
   "cell_type": "code",
   "execution_count": 840,
   "id": "873782e9-df13-4b7b-abce-244633d547c6",
   "metadata": {},
   "outputs": [],
   "source": [
    "params_final = state.params"
   ]
  },
  {
   "cell_type": "code",
   "execution_count": 841,
   "id": "7ec06416-3cc6-4081-b206-f09d3bcf3b23",
   "metadata": {},
   "outputs": [
    {
     "data": {
      "text/plain": [
       "[<matplotlib.lines.Line2D at 0x7fc55b51c100>]"
      ]
     },
     "execution_count": 841,
     "metadata": {},
     "output_type": "execute_result"
    },
    {
     "data": {
      "image/png": "[encoded data removed]",
      "text/plain": [
       "<Figure size 432x288 with 1 Axes>"
      ]
     },
     "metadata": {
      "image/png": {
       "height": 258,
       "width": 370
      },
      "needs_background": "light"
     },
     "output_type": "display_data"
    }
   ],
   "source": [
    "plt.plot(loss_hist)"
   ]
  },
  {
   "cell_type": "code",
   "execution_count": 845,
   "id": "2086285f-ff8a-4bec-aff9-fc9600169a49",
   "metadata": {},
   "outputs": [
    {
     "data": {
      "text/plain": [
       "<matplotlib.image.AxesImage at 0x7fc55b38cac0>"
      ]
     },
     "execution_count": 845,
     "metadata": {},
     "output_type": "execute_result"
    },
    {
     "data": {
      "image/png": "[encoded data removed]",
      "text/plain": [
       "<Figure size 432x288 with 1 Axes>"
      ]
     },
     "metadata": {
      "image/png": {
       "height": 248,
       "width": 251
      },
      "needs_background": "light"
     },
     "output_type": "display_data"
    }
   ],
   "source": [
    "ix = 2\n",
    "img_test = Xf_train[ix]\n",
    "plt.imshow(img_test.reshape(28, 28))"
   ]
  },
  {
   "cell_type": "code",
   "execution_count": 846,
   "id": "35c18d26-3c16-44bb-8295-55477be11086",
   "metadata": {},
   "outputs": [],
   "source": [
    "_, (mean_rec, logvar_rec) = model.apply(params_final, img_test, key)"
   ]
  },
  {
   "cell_type": "code",
   "execution_count": 847,
   "id": "f183805b-dea7-407a-834b-0c48e1c716c4",
   "metadata": {},
   "outputs": [
    {
     "data": {
      "text/plain": [
       "<matplotlib.image.AxesImage at 0x7fc55b3416a0>"
      ]
     },
     "execution_count": 847,
     "metadata": {},
     "output_type": "execute_result"
    },
    {
     "data": {
      "image/png": "[encoded data removed]",
      "text/plain": [
       "<Figure size 432x288 with 1 Axes>"
      ]
     },
     "metadata": {
      "image/png": {
       "height": 248,
       "width": 251
      },
      "needs_background": "light"
     },
     "output_type": "display_data"
    }
   ],
   "source": [
    "plt.imshow(mean_rec.reshape(28, 28))"
   ]
  }
 ],
 "metadata": {
  "kernelspec": {
   "display_name": "Python 3 (ipykernel)",
   "language": "python",
   "name": "python3"
  },
  "language_info": {
   "codemirror_mode": {
    "name": "ipython",
    "version": 3
   },
   "file_extension": ".py",
   "mimetype": "text/x-python",
   "name": "python",
   "nbconvert_exporter": "python",
   "pygments_lexer": "ipython3",
   "version": "3.9.7"
  }
 },
 "nbformat": 4,
 "nbformat_minor": 5
}
