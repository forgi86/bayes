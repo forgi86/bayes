{
 "cells": [
  {
   "cell_type": "markdown",
   "id": "1421c8fc-e594-41d8-95f7-5e08919b39bb",
   "metadata": {},
   "source": [
    "# Difussion score matching\n",
    "Working with \"robust\" posteriors"
   ]
  },
  {
   "cell_type": "code",
   "execution_count": 2,
   "id": "98d605a8-f5cb-40f4-b572-13b34bf332be",
   "metadata": {
    "tags": []
   },
   "outputs": [],
   "source": [
    "import jax\n",
    "import jax.numpy as jnp\n",
    "import matplotlib.pyplot as plt"
   ]
  },
  {
   "cell_type": "code",
   "execution_count": 3,
   "id": "84f3ca53-374e-4ecd-8ec9-eff45ee13f85",
   "metadata": {
    "tags": []
   },
   "outputs": [],
   "source": [
    "%config InlineBackend.figure_format = \"retina\""
   ]
  },
  {
   "cell_type": "markdown",
   "id": "969633d2-b91d-4491-8732-2f01c0f94f6f",
   "metadata": {},
   "source": [
    "## The setting\n",
    "### Proposition 3.1 of [1]\n",
    "Suppose $y\\vert\\boldsymbol\\theta$ is a member of the exponential family such that\n",
    "$$\n",
    " p({\\bf y} \\vert \\theta) = \\exp(\\eta(\\boldsymbol\\theta)^\\intercal r(x) - a(\\boldsymbol\\theta) + b(x)).\n",
    "$$\n",
    "\n",
    "Take $\\eta(\\boldsymbol\\theta) = \\boldsymbol\\theta$ and a squared exponential prior of the form \n",
    "$$\n",
    "    \\pi(\\boldsymbol\\theta)\\propto\n",
    "    \\exp\\left(-\\frac{1}{2}(\\boldsymbol\\theta - \\boldsymbol\\mu)^\\intercal\\boldsymbol\\Sigma^{-1}(\\boldsymbol\\theta - \\boldsymbol\\mu)\\right)\n",
    "$$\n",
    "\n",
    "with\n",
    "* $\\eta: \\boldsymbol\\Theta \\to \\mathbb{R}^p$,\n",
    "* $r: {\\cal X} \\to \\mathbb{R}^p$,\n",
    "* $a: \\boldsymbol\\Theta \\to \\mathbb{R}$, and\n",
    "* $b: {\\cal X} \\to \\mathbb{R}$"
   ]
  },
  {
   "cell_type": "markdown",
   "id": "f86758ad-a80e-438d-bdf3-03acfb9cb141",
   "metadata": {},
   "source": [
    "Then the posterior takes the form of a truncated Gaussian of the form\n",
    "$$\n",
    "    \\pi(\\boldsymbol\\theta \\vert y_{1:t}) \\propto\n",
    "    \\left(\n",
    "        -\\frac{1}{2}(\\boldsymbol\\theta - \\boldsymbol\\mu_T)^\\intercal \\boldsymbol\\Sigma_T^{-1} (\\boldsymbol\\theta - \\boldsymbol\\mu_T)\n",
    "    \\right)\n",
    "$$\n",
    "with\n",
    "* $\\boldsymbol\\Sigma_T^{-1} = \\boldsymbol\\Sigma^{-1} + 2\\omega T \\Lambda_T$\n",
    "* $\\boldsymbol\\mu_T = \\boldsymbol\\Sigma_T (\\boldsymbol\\Sigma^{-1}\\boldsymbol\\mu - \\omega T \\nu_T)$\n",
    "* $\\Lambda_T = \\frac{1}{T}\\sum_{t=1}^T \\Lambda(y_t)$\n",
    "* $\\nu_T = \\frac{2}{T} \\nu(y_t)$\n",
    "* $\\Lambda(y) = \\left( \\nabla r^\\intercal m m^\\intercal \\nabla r \\right)(y)$\n",
    "* $\\nu(y) = \\left( \\nabla r^\\intercal m m^\\intercal \\nabla r^\\intercal + \\nabla\\cdot (mm^\\intercal)\\nabla r_t \\right)$\n",
    "* $m: {\\cal X} \\to \\mathbb{R}^{M\\times M}$"
   ]
  },
  {
   "cell_type": "markdown",
   "id": "ed277130-01cd-486f-aad3-b94cadfb77c1",
   "metadata": {},
   "source": [
    "# References\n",
    "* [1] Robust and Scalable Bayesian Online Changepoint Detection: https://arxiv.org/abs/2302.04759"
   ]
  }
 ],
 "metadata": {
  "kernelspec": {
   "display_name": "research",
   "language": "python",
   "name": "research"
  },
  "language_info": {
   "codemirror_mode": {
    "name": "ipython",
    "version": 3
   },
   "file_extension": ".py",
   "mimetype": "text/x-python",
   "name": "python",
   "nbconvert_exporter": "python",
   "pygments_lexer": "ipython3",
   "version": "3.10.12"
  }
 },
 "nbformat": 4,
 "nbformat_minor": 5
}
