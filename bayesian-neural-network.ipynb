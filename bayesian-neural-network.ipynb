{
 "cells": [
  {
   "cell_type": "markdown",
   "id": "65550c8c-21b4-4648-af9a-ec96895a4003",
   "metadata": {},
   "source": [
    "# Bayesian neural network\n",
    "\n",
    "Bayesian neural network implementation using jax, flax, and distrax."
   ]
  },
  {
   "cell_type": "code",
   "execution_count": 1,
   "id": "de5bf876-5459-40ba-a40f-ee87e38581e0",
   "metadata": {},
   "outputs": [],
   "source": [
    "import jax\n",
    "import distrax\n",
    "import blackjax\n",
    "import jax.numpy as jnp\n",
    "import flax.linen as nn\n",
    "import matplotlib.pyplot as plt\n",
    "\n",
    "from functools import partial\n",
    "from sklearn.datasets import make_moons\n",
    "from jax.flatten_util import ravel_pytree"
   ]
  },
  {
   "cell_type": "code",
   "execution_count": 2,
   "id": "d45927cd-fc79-4bd8-9544-b381488bdc70",
   "metadata": {},
   "outputs": [],
   "source": [
    "class MLPClass(nn.Module):\n",
    "    \"\"\"\n",
    "    Multi-layered perceptron for classificaton.\n",
    "    Based on the `bnn` function with the example config.\n",
    "    \"\"\"\n",
    "    # num_outputs: int\n",
    "    @nn.compact\n",
    "    def __call__(self, x):\n",
    "        x = nn.relu(nn.Dense(10)(x))\n",
    "        x = nn.relu(nn.Dense(10)(x))\n",
    "        x = nn.relu(nn.Dense(10)(x))\n",
    "        x = nn.Dense(1)(x)\n",
    "        return x\n",
    "\n",
    "\n",
    "def bnn_log_joint(params, X, y, model):\n",
    "    logits = model.apply(params, X).ravel()\n",
    "    \n",
    "    flatten_params, _ = ravel_pytree(params)\n",
    "    log_prior = distrax.Normal(0.0, 1.0).log_prob(flatten_params).sum()\n",
    "    log_likelihood = distrax.Bernoulli(logits=logits).log_prob(y).sum()\n",
    "    \n",
    "    log_joint = log_prior + log_likelihood\n",
    "    return log_joint\n",
    "\n",
    "\n",
    "def inference_loop(rng_key, kernel, initial_state, num_samples):\n",
    "    def one_step(state, rng_key):\n",
    "        state, _ = kernel(rng_key, state)\n",
    "        return state, state\n",
    "\n",
    "    keys = jax.random.split(rng_key, num_samples)\n",
    "    _, states = jax.lax.scan(one_step, initial_state, keys)\n",
    "\n",
    "    return states"
   ]
  },
  {
   "cell_type": "code",
   "execution_count": 3,
   "id": "c19f676d-25ae-4629-908f-acb1edbcf181",
   "metadata": {},
   "outputs": [],
   "source": [
    "key = jax.random.PRNGKey(314)\n",
    "key_samples, key_init, key_warmup, key = jax.random.split(key, 4)"
   ]
  },
  {
   "cell_type": "code",
   "execution_count": 4,
   "id": "f92c16d3-35f5-48ac-b264-7a0224622a12",
   "metadata": {},
   "outputs": [],
   "source": [
    "noise = 0.2\n",
    "n_samples = 50\n",
    "\n",
    "model = MLPClass()\n",
    "batch = jnp.ones((n_samples, 2))\n",
    "params = model.init(key_init, batch)\n",
    "\n",
    "X, y = make_moons(n_samples=n_samples, noise=noise, random_state=314)\n",
    "potential = partial(bnn_log_joint, X=X, y=y, model=model)"
   ]
  },
  {
   "cell_type": "code",
   "execution_count": 5,
   "id": "dd71f8e3-7172-4145-909c-103380749ceb",
   "metadata": {},
   "outputs": [],
   "source": [
    "num_warmup = 1000\n",
    "num_samples = 500\n",
    "\n",
    "adapt = blackjax.window_adaptation(blackjax.nuts, potential, num_warmup)\n",
    "final_state, kernel, _ = adapt.run(key_warmup, params)\n",
    "states = inference_loop(key_samples, kernel, final_state, num_samples)\n",
    "\n",
    "sampled_params = states.position"
   ]
  },
  {
   "cell_type": "markdown",
   "id": "ed9e1385-7506-401a-9417-10030f133613",
   "metadata": {},
   "source": [
    "## Plotting decision surface"
   ]
  },
  {
   "cell_type": "code",
   "execution_count": 6,
   "id": "d3f9af25-5239-4f79-8f22-55cdfe92fbd7",
   "metadata": {},
   "outputs": [],
   "source": [
    "step = 0.2\n",
    "vmin, vmax = X.min() - step, X.max() + step\n",
    "X_grid = jnp.mgrid[vmin:vmax:100j, vmin:vmax:100j]"
   ]
  },
  {
   "cell_type": "code",
   "execution_count": 7,
   "id": "c4ac45f3-c326-4b05-90d0-745fe4d6da57",
   "metadata": {},
   "outputs": [],
   "source": [
    "vapply = jax.vmap(model.apply, in_axes=(0, None), out_axes=0)\n",
    "vapply = jax.vmap(vapply, in_axes=(None, 1), out_axes=1)\n",
    "vapply = jax.vmap(vapply, in_axes=(None, 2), out_axes=2)\n",
    "\n",
    "logits_grid = vapply(sampled_params, X_grid)[..., -1]"
   ]
  },
  {
   "cell_type": "code",
   "execution_count": 8,
   "id": "8f7a5b19-5839-49ea-b531-5540472f622d",
   "metadata": {},
   "outputs": [
    {
     "data": {
      "image/png": "[encoded data removed]",
      "text/plain": [
       "<Figure size 360x288 with 1 Axes>"
      ]
     },
     "metadata": {
      "needs_background": "light"
     },
     "output_type": "display_data"
    }
   ],
   "source": [
    "p_grid = jax.nn.sigmoid(logits_grid).mean(axis=0)\n",
    "fig, ax = plt.subplots(figsize=(5,4))\n",
    "colors = [\"tab:red\" if yn==1 else \"tab:blue\" for yn in y]\n",
    "plt.scatter(*X.T, c=colors, zorder=1)\n",
    "plt.contourf(*X_grid, p_grid, zorder=0, cmap=\"twilight\")\n",
    "plt.axis(\"off\");"
   ]
  }
 ],
 "metadata": {
  "kernelspec": {
   "display_name": "Python 3 (ipykernel)",
   "language": "python",
   "name": "python3"
  },
  "language_info": {
   "codemirror_mode": {
    "name": "ipython",
    "version": 3
   },
   "file_extension": ".py",
   "mimetype": "text/x-python",
   "name": "python",
   "nbconvert_exporter": "python",
   "pygments_lexer": "ipython3",
   "version": "3.9.7"
  }
 },
 "nbformat": 4,
 "nbformat_minor": 5
}
